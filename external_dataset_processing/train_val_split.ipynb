{
 "cells": [
  {
   "cell_type": "code",
   "execution_count": 3,
   "metadata": {},
   "outputs": [],
   "source": [
    "import os\n",
    "import json\n",
    "import pandas as pd\n",
    "from numpy import array\n",
    "from datasets import Dataset, DatasetDict, load_from_disk\n",
    "from csv_to_arrow import csv_to_arrow, modify_filename"
   ]
  },
  {
   "cell_type": "code",
   "execution_count": 2,
   "metadata": {},
   "outputs": [
    {
     "data": {
      "text/plain": [
       "(3952, 240)"
      ]
     },
     "execution_count": 2,
     "metadata": {},
     "output_type": "execute_result"
    }
   ],
   "source": [
    "parent_dir = os.path.dirname(os.getcwd())\n",
    "train_filename = os.path.join(parent_dir, \"data\", \"csv\", \"train_dataset.csv\")\n",
    "valid_filename = os.path.join(parent_dir, \"data\", \"csv\", \"train_validation_dataset.csv\")\n",
    "\n",
    "train_df = pd.read_csv(train_filename)\n",
    "valid_df = pd.read_csv(valid_filename)\n",
    "\n",
    "# type str -> object(dict)로 변환\n",
    "train_df[\"answers\"] = train_df[\"answers\"].apply(lambda x: eval(x))\n",
    "valid_df[\"answers\"] = valid_df[\"answers\"].apply(lambda x: eval(x))\n",
    "\n",
    "len(train_df), len(valid_df)"
   ]
  },
  {
   "cell_type": "code",
   "execution_count": 13,
   "metadata": {},
   "outputs": [
    {
     "name": "stderr",
     "output_type": "stream",
     "text": [
      "Saving the dataset (1/1 shards): 100%|██████████| 4192/4192 [00:00<00:00, 461628.92 examples/s]\n"
     ]
    }
   ],
   "source": [
    "# train/val 통합\n",
    "concated_df = pd.concat([train_df, valid_df],ignore_index=True)\n",
    "concated_dataset = Dataset.from_pandas(concated_df)\n",
    "concated_dataset.save_to_disk(\"concated\")"
   ]
  },
  {
   "cell_type": "code",
   "execution_count": 21,
   "metadata": {},
   "outputs": [
    {
     "data": {
      "text/plain": [
       "(3952, 240)"
      ]
     },
     "execution_count": 21,
     "metadata": {},
     "output_type": "execute_result"
    }
   ],
   "source": [
    "# train/val 재분할\n",
    "sampled_df = train_df.sample(n=240, random_state=2024)\n",
    "remaining_df = train_df.drop(sampled_df.index)\n",
    "\n",
    "new_train_df = pd.concat([remaining_df, valid_df])\n",
    "new_valid_df = sampled_df\n",
    "\n",
    "output_dir = \"split_seed_2022\"\n",
    "new_train_filename =  os.path.join(output_dir, \"train_dataset.csv\")\n",
    "new_valid_filename = os.path.join(output_dir,\"train_validation_dataset.csv\")\n",
    "\n",
    "new_train_df.to_csv(new_train_filename, index=False)\n",
    "new_valid_df.to_csv(new_valid_filename, index=False)\n",
    "\n",
    "len(new_train_df), len(new_valid_df)"
   ]
  },
  {
   "cell_type": "code",
   "execution_count": 22,
   "metadata": {},
   "outputs": [
    {
     "name": "stderr",
     "output_type": "stream",
     "text": [
      "Saving the dataset (1/1 shards): 100%|██████████| 3952/3952 [00:00<00:00, 780519.35 examples/s]\n",
      "Saving the dataset (1/1 shards): 100%|██████████| 240/240 [00:00<00:00, 81469.16 examples/s]"
     ]
    },
    {
     "name": "stdout",
     "output_type": "stream",
     "text": [
      "Augmented dataset saved to split_seed_2022\n"
     ]
    },
    {
     "name": "stderr",
     "output_type": "stream",
     "text": [
      "\n"
     ]
    }
   ],
   "source": [
    "from csv_to_arrow import csv_to_arrow,modify_filename\n",
    "\n",
    "csv_to_arrow(new_train_filename, new_valid_filename, output_dir)\n",
    "modify_filename(output_dir)"
   ]
  },
  {
   "cell_type": "code",
   "execution_count": null,
   "metadata": {},
   "outputs": [],
   "source": []
  }
 ],
 "metadata": {
  "kernelspec": {
   "display_name": "MRC",
   "language": "python",
   "name": "python3"
  },
  "language_info": {
   "codemirror_mode": {
    "name": "ipython",
    "version": 3
   },
   "file_extension": ".py",
   "mimetype": "text/x-python",
   "name": "python",
   "nbconvert_exporter": "python",
   "pygments_lexer": "ipython3",
   "version": "3.10.14"
  }
 },
 "nbformat": 4,
 "nbformat_minor": 2
}
