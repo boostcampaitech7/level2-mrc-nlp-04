{
 "cells": [
  {
   "cell_type": "markdown",
   "metadata": {},
   "source": [
    "# 리트리버 성능평가"
   ]
  },
  {
   "cell_type": "code",
   "execution_count": 23,
   "metadata": {},
   "outputs": [],
   "source": [
    "import pandas as pd\n",
    "import os\n",
    "from copy import deepcopy\n",
    "\n",
    "current_dir = os.getcwd()\n",
    "parent_dir = os.path.dirname(current_dir)"
   ]
  },
  {
   "cell_type": "code",
   "execution_count": 24,
   "metadata": {},
   "outputs": [],
   "source": [
    "import ast\n",
    "import re\n",
    "\n",
    "def preprocess(text):\n",
    "    text = re.sub(r\"\\n\", \" \", text)\n",
    "    text = re.sub(r\"\\\\n\", \" \", text)\n",
    "    text = re.sub(r\"#\", \" \", text)\n",
    "    text = re.sub(\n",
    "        r\"[^A-Za-z0-9가-힣.?!,()~‘’“”\" \":%&《》〈〉''㈜·\\-'+\\s一-龥サマーン]\",\n",
    "        \"\",\n",
    "        text,\n",
    "    )  # サマーン 는 predictions.json에 있었음\n",
    "    text = re.sub(r\"\\s+\", \" \", text).strip()  # 두 개 이상의 연속된 공백을 하나로 치환\n",
    "    # text = re.sub(r\"[^A-Za-z0-9가-힣.?!,()~‘’“”\"\":%&《》〈〉''㈜·\\-\\'+\\s一-龥]\", \"\", text)\n",
    "\n",
    "    return text\n",
    "\n",
    "\n",
    "def evaluate_retriever(df, topk=100, is_preprocess=False, is_title=False):\n",
    "    df[\"context\"] = df[\"context\"].apply(\n",
    "        lambda x: ast.literal_eval(x)\n",
    "    )\n",
    "    correct_ids = []\n",
    "    wrong_ids = []\n",
    "    for idx,row in df.iterrows():\n",
    "        org_context = (\n",
    "            preprocess(row[\"original_context\"])\n",
    "            if is_preprocess\n",
    "            else row[\"original_context\"]\n",
    "        )\n",
    "        if is_title:\n",
    "            for passage in row[\"context\"][:topk]:\n",
    "                if passage.split(\": \")[1] == org_context:\n",
    "                    correct_ids.append(row[\"id\"])\n",
    "                    break\n",
    "            else:\n",
    "                wrong_ids.append(row[\"id\"])\n",
    "        else:\n",
    "            if org_context in row[\"context\"][:topk]:\n",
    "                correct_ids.append(row[\"id\"])\n",
    "            else:\n",
    "                wrong_ids.append(row[\"id\"])\n",
    "\n",
    "    print(\n",
    "        f\"전체: {len(df)}, 맞은 개수: {len(correct_ids)}, 틀린 개수: {len(wrong_ids)}, 정답률: {(len(correct_ids)/len(df)):.4%}\"\n",
    "    )\n",
    "    return correct_ids, wrong_ids"
   ]
  },
  {
   "cell_type": "markdown",
   "metadata": {},
   "source": [
    "## Elasticsearch"
   ]
  },
  {
   "cell_type": "markdown",
   "metadata": {},
   "source": [
    "### Train"
   ]
  },
  {
   "cell_type": "code",
   "execution_count": 6,
   "metadata": {},
   "outputs": [],
   "source": [
    "es_path = os.path.join(parent_dir, \"data\", \"es_train\")\n",
    "df_train_es_100 = pd.read_csv(os.path.join(es_path, \"train_es_train_100.csv\"))\n",
    "dfs = []\n",
    "for i in range(10):\n",
    "    dfs.append(deepcopy(df_train_es_100))"
   ]
  },
  {
   "cell_type": "code",
   "execution_count": 7,
   "metadata": {},
   "outputs": [
    {
     "name": "stdout",
     "output_type": "stream",
     "text": [
      "전체: 3952, 맞은 개수: 3411, 틀린 개수: 541, 정답률: 86.3107%\n"
     ]
    }
   ],
   "source": [
    "_, _ = evaluate_retriever(deepcopy(df_train_es_100), topk=5, is_preprocess=True)"
   ]
  },
  {
   "cell_type": "code",
   "execution_count": 156,
   "metadata": {},
   "outputs": [
    {
     "name": "stdout",
     "output_type": "stream",
     "text": [
      "전체: 3952, 맞은 개수: 3543, 틀린 개수: 409, 정답률: 89.6508%\n",
      "전체: 3952, 맞은 개수: 3667, 틀린 개수: 285, 정답률: 92.7885%\n",
      "전체: 3952, 맞은 개수: 3722, 틀린 개수: 230, 정답률: 94.1802%\n",
      "전체: 3952, 맞은 개수: 3741, 틀린 개수: 211, 정답률: 94.6609%\n",
      "전체: 3952, 맞은 개수: 3764, 틀린 개수: 188, 정답률: 95.2429%\n",
      "전체: 3952, 맞은 개수: 3783, 틀린 개수: 169, 정답률: 95.7237%\n",
      "전체: 3952, 맞은 개수: 3793, 틀린 개수: 159, 정답률: 95.9767%\n",
      "전체: 3952, 맞은 개수: 3803, 틀린 개수: 149, 정답률: 96.2298%\n",
      "전체: 3952, 맞은 개수: 3810, 틀린 개수: 142, 정답률: 96.4069%\n",
      "전체: 3952, 맞은 개수: 3817, 틀린 개수: 135, 정답률: 96.5840%\n"
     ]
    }
   ],
   "source": [
    "for df, topk in zip(deepcopy(dfs), [k for k in range(10, 110, 10)]):\n",
    "    _, _ = evaluate_retriever(df, topk=topk, is_preprocess=True)"
   ]
  },
  {
   "cell_type": "markdown",
   "metadata": {},
   "source": [
    "### Validation"
   ]
  },
  {
   "cell_type": "code",
   "execution_count": 8,
   "metadata": {},
   "outputs": [],
   "source": [
    "es_path = os.path.join(parent_dir, \"data\", \"es_train\")\n",
    "df_val_es_100 = pd.read_csv(os.path.join(es_path, \"train_es_val_100.csv\"))\n",
    "dfs = []\n",
    "for i in range(10):\n",
    "    dfs.append(deepcopy(df_val_es_100))"
   ]
  },
  {
   "cell_type": "code",
   "execution_count": 9,
   "metadata": {},
   "outputs": [
    {
     "name": "stdout",
     "output_type": "stream",
     "text": [
      "전체: 240, 맞은 개수: 209, 틀린 개수: 31, 정답률: 87.0833%\n"
     ]
    }
   ],
   "source": [
    "_, _ = evaluate_retriever(deepcopy(df_val_es_100), topk=5, is_preprocess=True)"
   ]
  },
  {
   "cell_type": "code",
   "execution_count": 5,
   "metadata": {},
   "outputs": [
    {
     "name": "stdout",
     "output_type": "stream",
     "text": [
      "전체: 240, 맞은 개수: 222, 틀린 개수: 18, 정답률: 92.5000%\n",
      "전체: 240, 맞은 개수: 227, 틀린 개수: 13, 정답률: 94.5833%\n",
      "전체: 240, 맞은 개수: 231, 틀린 개수: 9, 정답률: 96.2500%\n",
      "전체: 240, 맞은 개수: 232, 틀린 개수: 8, 정답률: 96.6667%\n",
      "전체: 240, 맞은 개수: 232, 틀린 개수: 8, 정답률: 96.6667%\n",
      "전체: 240, 맞은 개수: 234, 틀린 개수: 6, 정답률: 97.5000%\n",
      "전체: 240, 맞은 개수: 234, 틀린 개수: 6, 정답률: 97.5000%\n",
      "전체: 240, 맞은 개수: 234, 틀린 개수: 6, 정답률: 97.5000%\n",
      "전체: 240, 맞은 개수: 235, 틀린 개수: 5, 정답률: 97.9167%\n",
      "전체: 240, 맞은 개수: 235, 틀린 개수: 5, 정답률: 97.9167%\n"
     ]
    }
   ],
   "source": [
    "for df, topk in zip(deepcopy(dfs), [k for k in range(10, 110, 10)]):\n",
    "    _, _ = evaluate_retriever(df, topk=topk, is_preprocess=True)"
   ]
  },
  {
   "cell_type": "markdown",
   "metadata": {},
   "source": [
    "### Train + Validation"
   ]
  },
  {
   "cell_type": "code",
   "execution_count": 160,
   "metadata": {},
   "outputs": [],
   "source": [
    "df_concat = pd.concat([df_train_es_100,df_val_es_100],axis=0)\n",
    "dfs = []\n",
    "for i in range(10):\n",
    "    dfs.append(deepcopy(df_concat))"
   ]
  },
  {
   "cell_type": "code",
   "execution_count": 161,
   "metadata": {},
   "outputs": [
    {
     "name": "stdout",
     "output_type": "stream",
     "text": [
      "전체: 4192, 맞은 개수: 3765, 틀린 개수: 427, 정답률: 89.8139%\n",
      "전체: 4192, 맞은 개수: 3894, 틀린 개수: 298, 정답률: 92.8912%\n",
      "전체: 4192, 맞은 개수: 3953, 틀린 개수: 239, 정답률: 94.2987%\n",
      "전체: 4192, 맞은 개수: 3973, 틀린 개수: 219, 정답률: 94.7758%\n",
      "전체: 4192, 맞은 개수: 3996, 틀린 개수: 196, 정답률: 95.3244%\n",
      "전체: 4192, 맞은 개수: 4017, 틀린 개수: 175, 정답률: 95.8254%\n",
      "전체: 4192, 맞은 개수: 4027, 틀린 개수: 165, 정답률: 96.0639%\n",
      "전체: 4192, 맞은 개수: 4037, 틀린 개수: 155, 정답률: 96.3025%\n",
      "전체: 4192, 맞은 개수: 4045, 틀린 개수: 147, 정답률: 96.4933%\n",
      "전체: 4192, 맞은 개수: 4052, 틀린 개수: 140, 정답률: 96.6603%\n"
     ]
    }
   ],
   "source": [
    "for df, topk in zip(deepcopy(dfs), [k for k in range(10, 110, 10)]):\n",
    "    _, _ = evaluate_retriever(df, topk=topk, is_preprocess=True)"
   ]
  },
  {
   "cell_type": "markdown",
   "metadata": {},
   "source": [
    "## BM25"
   ]
  },
  {
   "cell_type": "markdown",
   "metadata": {},
   "source": [
    "### Train"
   ]
  },
  {
   "cell_type": "code",
   "execution_count": 10,
   "metadata": {},
   "outputs": [],
   "source": [
    "bm25_path = os.path.join(parent_dir, \"data\", \"bm25_train\")\n",
    "\n",
    "df_train_bm25_100 = pd.read_csv(os.path.join(bm25_path, \"train_bm25_train_100.csv\"))\n",
    "dfs = []\n",
    "for i in range(10):\n",
    "    dfs.append(deepcopy(df_train_bm25_100))"
   ]
  },
  {
   "cell_type": "code",
   "execution_count": 7,
   "metadata": {},
   "outputs": [
    {
     "name": "stdout",
     "output_type": "stream",
     "text": [
      "전체: 3952, 맞은 개수: 3317, 틀린 개수: 635, 정답률: 83.9322%\n",
      "전체: 3952, 맞은 개수: 3448, 틀린 개수: 504, 정답률: 87.2470%\n",
      "전체: 3952, 맞은 개수: 3499, 틀린 개수: 453, 정답률: 88.5374%\n",
      "전체: 3952, 맞은 개수: 3529, 틀린 개수: 423, 정답률: 89.2966%\n",
      "전체: 3952, 맞은 개수: 3557, 틀린 개수: 395, 정답률: 90.0051%\n",
      "전체: 3952, 맞은 개수: 3577, 틀린 개수: 375, 정답률: 90.5111%\n",
      "전체: 3952, 맞은 개수: 3591, 틀린 개수: 361, 정답률: 90.8654%\n",
      "전체: 3952, 맞은 개수: 3599, 틀린 개수: 353, 정답률: 91.0678%\n",
      "전체: 3952, 맞은 개수: 3611, 틀린 개수: 341, 정답률: 91.3715%\n",
      "전체: 3952, 맞은 개수: 3616, 틀린 개수: 336, 정답률: 91.4980%\n"
     ]
    }
   ],
   "source": [
    "for df, topk in zip(deepcopy(dfs), [k for k in range(10, 110, 10)]):\n",
    "    _, _ = evaluate_retriever(df, topk=topk, is_title=True)"
   ]
  },
  {
   "cell_type": "code",
   "execution_count": 3,
   "metadata": {},
   "outputs": [],
   "source": [
    "bm25_path = os.path.join(parent_dir, \"data\", \"bm25_train\")\n",
    "\n",
    "df_train_bm25_100 = pd.read_csv(os.path.join(bm25_path, \"train_bm25_train_100_notitle.csv\"))\n",
    "dfs = []\n",
    "for i in range(10):\n",
    "    dfs.append(deepcopy(df_train_bm25_100))"
   ]
  },
  {
   "cell_type": "code",
   "execution_count": 12,
   "metadata": {},
   "outputs": [
    {
     "name": "stdout",
     "output_type": "stream",
     "text": [
      "전체: 3952, 맞은 개수: 3280, 틀린 개수: 672, 정답률: 82.9960%\n"
     ]
    }
   ],
   "source": [
    "df_train_bm25_100 = pd.read_csv(os.path.join(bm25_path, \"train_bm25_train_100_notitle.csv\"))\n",
    "_, _ = evaluate_retriever(deepcopy(df_train_bm25_100), topk=5)"
   ]
  },
  {
   "cell_type": "code",
   "execution_count": 5,
   "metadata": {},
   "outputs": [
    {
     "name": "stdout",
     "output_type": "stream",
     "text": [
      "전체: 3952, 맞은 개수: 3454, 틀린 개수: 498, 정답률: 87.3988%\n",
      "전체: 3952, 맞은 개수: 3592, 틀린 개수: 360, 정답률: 90.8907%\n",
      "전체: 3952, 맞은 개수: 3652, 틀린 개수: 300, 정답률: 92.4089%\n",
      "전체: 3952, 맞은 개수: 3681, 틀린 개수: 271, 정답률: 93.1427%\n",
      "전체: 3952, 맞은 개수: 3712, 틀린 개수: 240, 정답률: 93.9271%\n",
      "전체: 3952, 맞은 개수: 3729, 틀린 개수: 223, 정답률: 94.3573%\n",
      "전체: 3952, 맞은 개수: 3746, 틀린 개수: 206, 정답률: 94.7874%\n",
      "전체: 3952, 맞은 개수: 3758, 틀린 개수: 194, 정답률: 95.0911%\n",
      "전체: 3952, 맞은 개수: 3766, 틀린 개수: 186, 정답률: 95.2935%\n",
      "전체: 3952, 맞은 개수: 3773, 틀린 개수: 179, 정답률: 95.4706%\n"
     ]
    }
   ],
   "source": [
    "for df, topk in zip(deepcopy(dfs), [k for k in range(10, 110, 10)]):\n",
    "    _, _ = evaluate_retriever(df, topk=topk, is_title=False)"
   ]
  },
  {
   "cell_type": "markdown",
   "metadata": {},
   "source": [
    "### Validation"
   ]
  },
  {
   "cell_type": "code",
   "execution_count": 8,
   "metadata": {},
   "outputs": [],
   "source": [
    "df_val_bm25_100 = pd.read_csv(os.path.join(bm25_path, \"train_bm25_val_100.csv\"))\n",
    "dfs = []\n",
    "for i in range(10):\n",
    "    dfs.append(deepcopy(df_val_bm25_100))"
   ]
  },
  {
   "cell_type": "code",
   "execution_count": 9,
   "metadata": {},
   "outputs": [
    {
     "name": "stdout",
     "output_type": "stream",
     "text": [
      "전체: 240, 맞은 개수: 203, 틀린 개수: 37, 정답률: 84.5833%\n",
      "전체: 240, 맞은 개수: 210, 틀린 개수: 30, 정답률: 87.5000%\n",
      "전체: 240, 맞은 개수: 215, 틀린 개수: 25, 정답률: 89.5833%\n",
      "전체: 240, 맞은 개수: 216, 틀린 개수: 24, 정답률: 90.0000%\n",
      "전체: 240, 맞은 개수: 217, 틀린 개수: 23, 정답률: 90.4167%\n",
      "전체: 240, 맞은 개수: 217, 틀린 개수: 23, 정답률: 90.4167%\n",
      "전체: 240, 맞은 개수: 217, 틀린 개수: 23, 정답률: 90.4167%\n",
      "전체: 240, 맞은 개수: 217, 틀린 개수: 23, 정답률: 90.4167%\n",
      "전체: 240, 맞은 개수: 218, 틀린 개수: 22, 정답률: 90.8333%\n",
      "전체: 240, 맞은 개수: 218, 틀린 개수: 22, 정답률: 90.8333%\n"
     ]
    }
   ],
   "source": [
    "for df, topk in zip(deepcopy(dfs), [k for k in range(10, 110, 10)]):\n",
    "    _, _ = evaluate_retriever(df, topk=topk, is_title=True)"
   ]
  },
  {
   "cell_type": "code",
   "execution_count": 14,
   "metadata": {},
   "outputs": [
    {
     "name": "stdout",
     "output_type": "stream",
     "text": [
      "전체: 240, 맞은 개수: 216, 틀린 개수: 24, 정답률: 90.0000%\n",
      "전체: 240, 맞은 개수: 223, 틀린 개수: 17, 정답률: 92.9167%\n",
      "전체: 240, 맞은 개수: 228, 틀린 개수: 12, 정답률: 95.0000%\n",
      "전체: 240, 맞은 개수: 228, 틀린 개수: 12, 정답률: 95.0000%\n",
      "전체: 240, 맞은 개수: 228, 틀린 개수: 12, 정답률: 95.0000%\n",
      "전체: 240, 맞은 개수: 230, 틀린 개수: 10, 정답률: 95.8333%\n",
      "전체: 240, 맞은 개수: 230, 틀린 개수: 10, 정답률: 95.8333%\n",
      "전체: 240, 맞은 개수: 230, 틀린 개수: 10, 정답률: 95.8333%\n",
      "전체: 240, 맞은 개수: 231, 틀린 개수: 9, 정답률: 96.2500%\n",
      "전체: 240, 맞은 개수: 232, 틀린 개수: 8, 정답률: 96.6667%\n"
     ]
    }
   ],
   "source": [
    "df_val_bm25_100 = pd.read_csv(os.path.join(bm25_path, \"train_bm25_val_100_notitle.csv\"))\n",
    "dfs = []\n",
    "for i in range(10):\n",
    "    dfs.append(deepcopy(df_val_bm25_100))\n",
    "\n",
    "for df, topk in zip(deepcopy(dfs), [k for k in range(10, 110, 10)]):\n",
    "    _, _ = evaluate_retriever(df, topk=topk, is_title=False)"
   ]
  },
  {
   "cell_type": "code",
   "execution_count": 13,
   "metadata": {},
   "outputs": [
    {
     "name": "stdout",
     "output_type": "stream",
     "text": [
      "전체: 240, 맞은 개수: 205, 틀린 개수: 35, 정답률: 85.4167%\n"
     ]
    }
   ],
   "source": [
    "df_val_bm25_100 = pd.read_csv(os.path.join(bm25_path, \"train_bm25_val_100_notitle.csv\"))\n",
    "_, _ = evaluate_retriever(deepcopy(df_val_bm25_100), topk=5)"
   ]
  },
  {
   "cell_type": "markdown",
   "metadata": {},
   "source": [
    "### Train + Validatation"
   ]
  },
  {
   "cell_type": "code",
   "execution_count": 10,
   "metadata": {},
   "outputs": [],
   "source": [
    "df_concat = pd.concat([df_train_bm25_100, df_val_bm25_100], axis=0)\n",
    "dfs = []\n",
    "for i in range(10):\n",
    "    dfs.append(deepcopy(df_concat))"
   ]
  },
  {
   "cell_type": "code",
   "execution_count": 11,
   "metadata": {},
   "outputs": [
    {
     "name": "stdout",
     "output_type": "stream",
     "text": [
      "전체: 4192, 맞은 개수: 3520, 틀린 개수: 672, 정답률: 83.9695%\n",
      "전체: 4192, 맞은 개수: 3658, 틀린 개수: 534, 정답률: 87.2615%\n",
      "전체: 4192, 맞은 개수: 3714, 틀린 개수: 478, 정답률: 88.5973%\n",
      "전체: 4192, 맞은 개수: 3745, 틀린 개수: 447, 정답률: 89.3368%\n",
      "전체: 4192, 맞은 개수: 3774, 틀린 개수: 418, 정답률: 90.0286%\n",
      "전체: 4192, 맞은 개수: 3794, 틀린 개수: 398, 정답률: 90.5057%\n",
      "전체: 4192, 맞은 개수: 3808, 틀린 개수: 384, 정답률: 90.8397%\n",
      "전체: 4192, 맞은 개수: 3816, 틀린 개수: 376, 정답률: 91.0305%\n",
      "전체: 4192, 맞은 개수: 3829, 틀린 개수: 363, 정답률: 91.3406%\n",
      "전체: 4192, 맞은 개수: 3834, 틀린 개수: 358, 정답률: 91.4599%\n"
     ]
    }
   ],
   "source": [
    "for df, topk in zip(deepcopy(dfs), [k for k in range(10, 110, 10)]):\n",
    "    _, _ = evaluate_retriever(df, topk=topk, is_title=True)"
   ]
  },
  {
   "cell_type": "markdown",
   "metadata": {},
   "source": [
    "## Rerank-Elasticsearch"
   ]
  },
  {
   "cell_type": "code",
   "execution_count": 16,
   "metadata": {},
   "outputs": [],
   "source": [
    "es_path = os.path.join(parent_dir, \"data\", \"es_train\")\n",
    "\n",
    "df_es_20 = pd.read_csv(os.path.join(es_path, \"not_train_es_20_rerank_5.csv\"))\n",
    "df_es_30 = pd.read_csv(os.path.join(es_path, \"not_train_es_30_rerank_5.csv\"))\n",
    "df_es_40 = pd.read_csv(os.path.join(es_path, \"not_train_es_40_rerank_5.csv\"))\n",
    "df_es_50 = pd.read_csv(os.path.join(es_path, \"not_train_es_50_rerank_5.csv\"))\n",
    "df_es_60 = pd.read_csv(os.path.join(es_path, \"not_train_es_60_rerank_5.csv\"))\n",
    "df_es_70 = pd.read_csv(os.path.join(es_path, \"not_train_es_70_rerank_5.csv\"))\n",
    "df_es_80 = pd.read_csv(os.path.join(es_path, \"not_train_es_80_rerank_5.csv\"))\n",
    "df_es_90 = pd.read_csv(os.path.join(es_path, \"not_train_es_90_rerank_5.csv\"))\n",
    "df_es_100 = pd.read_csv(os.path.join(es_path, \"not_train_es_100_rerank_5.csv\"))\n",
    "\n",
    "dfs = [\n",
    "    df_es_20,\n",
    "    df_es_30,\n",
    "    df_es_40,\n",
    "    df_es_50,\n",
    "    df_es_60,\n",
    "    df_es_70,\n",
    "    df_es_80,\n",
    "    df_es_90,\n",
    "    df_es_100,\n",
    "]"
   ]
  },
  {
   "cell_type": "code",
   "execution_count": 128,
   "metadata": {},
   "outputs": [
    {
     "name": "stdout",
     "output_type": "stream",
     "text": [
      "전체: 240, 맞은 개수: 220, 틀린 개수: 20, 정답률: 91.6667%\n",
      "전체: 240, 맞은 개수: 223, 틀린 개수: 17, 정답률: 92.9167%\n",
      "전체: 240, 맞은 개수: 222, 틀린 개수: 18, 정답률: 92.5000%\n",
      "전체: 240, 맞은 개수: 222, 틀린 개수: 18, 정답률: 92.5000%\n",
      "전체: 240, 맞은 개수: 224, 틀린 개수: 16, 정답률: 93.3333%\n",
      "전체: 240, 맞은 개수: 222, 틀린 개수: 18, 정답률: 92.5000%\n",
      "전체: 240, 맞은 개수: 222, 틀린 개수: 18, 정답률: 92.5000%\n",
      "전체: 240, 맞은 개수: 222, 틀린 개수: 18, 정답률: 92.5000%\n",
      "전체: 240, 맞은 개수: 222, 틀린 개수: 18, 정답률: 92.5000%\n"
     ]
    }
   ],
   "source": [
    "for df in deepcopy(dfs):\n",
    "    _, _ = evaluate_retriever(df, topk=5, is_preprocess=False)"
   ]
  },
  {
   "cell_type": "code",
   "execution_count": 129,
   "metadata": {},
   "outputs": [
    {
     "name": "stdout",
     "output_type": "stream",
     "text": [
      "전체: 240, 맞은 개수: 218, 틀린 개수: 22, 정답률: 90.8333%\n",
      "전체: 240, 맞은 개수: 220, 틀린 개수: 20, 정답률: 91.6667%\n",
      "전체: 240, 맞은 개수: 221, 틀린 개수: 19, 정답률: 92.0833%\n",
      "전체: 240, 맞은 개수: 219, 틀린 개수: 21, 정답률: 91.2500%\n",
      "전체: 240, 맞은 개수: 221, 틀린 개수: 19, 정답률: 92.0833%\n",
      "전체: 240, 맞은 개수: 220, 틀린 개수: 20, 정답률: 91.6667%\n",
      "전체: 240, 맞은 개수: 220, 틀린 개수: 20, 정답률: 91.6667%\n",
      "전체: 240, 맞은 개수: 220, 틀린 개수: 20, 정답률: 91.6667%\n",
      "전체: 240, 맞은 개수: 220, 틀린 개수: 20, 정답률: 91.6667%\n"
     ]
    }
   ],
   "source": [
    "for df in deepcopy(dfs):\n",
    "    _, _ = evaluate_retriever(df, topk=4, is_preprocess=True)"
   ]
  },
  {
   "cell_type": "code",
   "execution_count": 130,
   "metadata": {},
   "outputs": [
    {
     "name": "stdout",
     "output_type": "stream",
     "text": [
      "전체: 240, 맞은 개수: 215, 틀린 개수: 25, 정답률: 89.5833%\n",
      "전체: 240, 맞은 개수: 215, 틀린 개수: 25, 정답률: 89.5833%\n",
      "전체: 240, 맞은 개수: 214, 틀린 개수: 26, 정답률: 89.1667%\n",
      "전체: 240, 맞은 개수: 214, 틀린 개수: 26, 정답률: 89.1667%\n",
      "전체: 240, 맞은 개수: 216, 틀린 개수: 24, 정답률: 90.0000%\n",
      "전체: 240, 맞은 개수: 215, 틀린 개수: 25, 정답률: 89.5833%\n",
      "전체: 240, 맞은 개수: 214, 틀린 개수: 26, 정답률: 89.1667%\n",
      "전체: 240, 맞은 개수: 215, 틀린 개수: 25, 정답률: 89.5833%\n",
      "전체: 240, 맞은 개수: 215, 틀린 개수: 25, 정답률: 89.5833%\n"
     ]
    }
   ],
   "source": [
    "for df in deepcopy(dfs):\n",
    "    _, _ = evaluate_retriever(df, topk=3, is_preprocess=True)"
   ]
  },
  {
   "cell_type": "code",
   "execution_count": 131,
   "metadata": {},
   "outputs": [
    {
     "name": "stdout",
     "output_type": "stream",
     "text": [
      "전체: 240, 맞은 개수: 206, 틀린 개수: 34, 정답률: 85.8333%\n",
      "전체: 240, 맞은 개수: 209, 틀린 개수: 31, 정답률: 87.0833%\n",
      "전체: 240, 맞은 개수: 209, 틀린 개수: 31, 정답률: 87.0833%\n",
      "전체: 240, 맞은 개수: 208, 틀린 개수: 32, 정답률: 86.6667%\n",
      "전체: 240, 맞은 개수: 210, 틀린 개수: 30, 정답률: 87.5000%\n",
      "전체: 240, 맞은 개수: 208, 틀린 개수: 32, 정답률: 86.6667%\n",
      "전체: 240, 맞은 개수: 208, 틀린 개수: 32, 정답률: 86.6667%\n",
      "전체: 240, 맞은 개수: 207, 틀린 개수: 33, 정답률: 86.2500%\n",
      "전체: 240, 맞은 개수: 207, 틀린 개수: 33, 정답률: 86.2500%\n"
     ]
    }
   ],
   "source": [
    "for df in deepcopy(dfs):\n",
    "    _, _ = evaluate_retriever(df, topk=2, is_preprocess=True)"
   ]
  },
  {
   "cell_type": "code",
   "execution_count": 132,
   "metadata": {},
   "outputs": [
    {
     "name": "stdout",
     "output_type": "stream",
     "text": [
      "전체: 240, 맞은 개수: 190, 틀린 개수: 50, 정답률: 79.1667%\n",
      "전체: 240, 맞은 개수: 191, 틀린 개수: 49, 정답률: 79.5833%\n",
      "전체: 240, 맞은 개수: 191, 틀린 개수: 49, 정답률: 79.5833%\n",
      "전체: 240, 맞은 개수: 191, 틀린 개수: 49, 정답률: 79.5833%\n",
      "전체: 240, 맞은 개수: 191, 틀린 개수: 49, 정답률: 79.5833%\n",
      "전체: 240, 맞은 개수: 191, 틀린 개수: 49, 정답률: 79.5833%\n",
      "전체: 240, 맞은 개수: 191, 틀린 개수: 49, 정답률: 79.5833%\n",
      "전체: 240, 맞은 개수: 191, 틀린 개수: 49, 정답률: 79.5833%\n",
      "전체: 240, 맞은 개수: 191, 틀린 개수: 49, 정답률: 79.5833%\n"
     ]
    }
   ],
   "source": [
    "for df in deepcopy(dfs):\n",
    "    _, _ = evaluate_retriever(df, topk=1, is_preprocess=True)"
   ]
  },
  {
   "cell_type": "markdown",
   "metadata": {},
   "source": [
    "## Rerank-BM25"
   ]
  },
  {
   "cell_type": "code",
   "execution_count": 27,
   "metadata": {},
   "outputs": [],
   "source": [
    "bm25_path = os.path.join(parent_dir, \"data\", \"bm25_train\")\n",
    "\n",
    "df_bm25_20 = pd.read_csv(os.path.join(bm25_path, \"20_bm25_rerank_5.csv\"))\n",
    "df_bm25_30 = pd.read_csv(os.path.join(bm25_path, \"30_bm25_rerank_5.csv\"))\n",
    "df_bm25_40 = pd.read_csv(os.path.join(bm25_path, \"40_bm25_rerank_5.csv\"))\n",
    "df_bm25_50 = pd.read_csv(os.path.join(bm25_path, \"50_bm25_rerank_5.csv\"))\n",
    "df_bm25_60 = pd.read_csv(os.path.join(bm25_path, \"60_bm25_rerank_5.csv\"))\n",
    "df_bm25_70 = pd.read_csv(os.path.join(bm25_path, \"70_bm25_rerank_5.csv\"))\n",
    "df_bm25_80 = pd.read_csv(os.path.join(bm25_path, \"80_bm25_rerank_5.csv\"))\n",
    "df_bm25_90 = pd.read_csv(os.path.join(bm25_path, \"90_bm25_rerank_5.csv\"))\n",
    "df_bm25_100 = pd.read_csv(os.path.join(bm25_path, \"100_bm25_rerank_5.csv\"))\n",
    "\n",
    "dfs = [\n",
    "    df_bm25_20,\n",
    "    df_bm25_30,\n",
    "    df_bm25_40,\n",
    "    df_bm25_50,\n",
    "    df_bm25_60,\n",
    "    df_bm25_70,\n",
    "    df_bm25_80,\n",
    "    df_bm25_90,\n",
    "    df_bm25_100,\n",
    "]"
   ]
  },
  {
   "cell_type": "code",
   "execution_count": 28,
   "metadata": {},
   "outputs": [
    {
     "name": "stdout",
     "output_type": "stream",
     "text": [
      "전체: 240, 맞은 개수: 216, 틀린 개수: 24, 정답률: 90.0000%\n",
      "전체: 240, 맞은 개수: 217, 틀린 개수: 23, 정답률: 90.4167%\n",
      "전체: 240, 맞은 개수: 217, 틀린 개수: 23, 정답률: 90.4167%\n",
      "전체: 240, 맞은 개수: 217, 틀린 개수: 23, 정답률: 90.4167%\n",
      "전체: 240, 맞은 개수: 219, 틀린 개수: 21, 정답률: 91.2500%\n",
      "전체: 240, 맞은 개수: 219, 틀린 개수: 21, 정답률: 91.2500%\n",
      "전체: 240, 맞은 개수: 219, 틀린 개수: 21, 정답률: 91.2500%\n",
      "전체: 240, 맞은 개수: 219, 틀린 개수: 21, 정답률: 91.2500%\n",
      "전체: 240, 맞은 개수: 220, 틀린 개수: 20, 정답률: 91.6667%\n"
     ]
    }
   ],
   "source": [
    "for df in deepcopy(dfs):\n",
    "    _, _ = evaluate_retriever(df)"
   ]
  },
  {
   "cell_type": "code",
   "execution_count": 30,
   "metadata": {},
   "outputs": [
    {
     "name": "stdout",
     "output_type": "stream",
     "text": [
      "전체: 240, 맞은 개수: 214, 틀린 개수: 26, 정답률: 89.1667%\n",
      "전체: 240, 맞은 개수: 216, 틀린 개수: 24, 정답률: 90.0000%\n",
      "전체: 240, 맞은 개수: 216, 틀린 개수: 24, 정답률: 90.0000%\n",
      "전체: 240, 맞은 개수: 216, 틀린 개수: 24, 정답률: 90.0000%\n",
      "전체: 240, 맞은 개수: 218, 틀린 개수: 22, 정답률: 90.8333%\n",
      "전체: 240, 맞은 개수: 218, 틀린 개수: 22, 정답률: 90.8333%\n",
      "전체: 240, 맞은 개수: 217, 틀린 개수: 23, 정답률: 90.4167%\n",
      "전체: 240, 맞은 개수: 217, 틀린 개수: 23, 정답률: 90.4167%\n",
      "전체: 240, 맞은 개수: 217, 틀린 개수: 23, 정답률: 90.4167%\n"
     ]
    }
   ],
   "source": [
    "for df in deepcopy(dfs):\n",
    "    _, _ = evaluate_retriever(df, topk=4)"
   ]
  },
  {
   "cell_type": "code",
   "execution_count": 31,
   "metadata": {},
   "outputs": [
    {
     "name": "stdout",
     "output_type": "stream",
     "text": [
      "전체: 240, 맞은 개수: 212, 틀린 개수: 28, 정답률: 88.3333%\n",
      "전체: 240, 맞은 개수: 215, 틀린 개수: 25, 정답률: 89.5833%\n",
      "전체: 240, 맞은 개수: 215, 틀린 개수: 25, 정답률: 89.5833%\n",
      "전체: 240, 맞은 개수: 215, 틀린 개수: 25, 정답률: 89.5833%\n",
      "전체: 240, 맞은 개수: 215, 틀린 개수: 25, 정답률: 89.5833%\n",
      "전체: 240, 맞은 개수: 214, 틀린 개수: 26, 정답률: 89.1667%\n",
      "전체: 240, 맞은 개수: 214, 틀린 개수: 26, 정답률: 89.1667%\n",
      "전체: 240, 맞은 개수: 215, 틀린 개수: 25, 정답률: 89.5833%\n",
      "전체: 240, 맞은 개수: 216, 틀린 개수: 24, 정답률: 90.0000%\n"
     ]
    }
   ],
   "source": [
    "for df in deepcopy(dfs):\n",
    "    _, _ = evaluate_retriever(df, topk=3)"
   ]
  },
  {
   "cell_type": "code",
   "execution_count": 32,
   "metadata": {},
   "outputs": [
    {
     "name": "stdout",
     "output_type": "stream",
     "text": [
      "전체: 240, 맞은 개수: 206, 틀린 개수: 34, 정답률: 85.8333%\n",
      "전체: 240, 맞은 개수: 207, 틀린 개수: 33, 정답률: 86.2500%\n",
      "전체: 240, 맞은 개수: 206, 틀린 개수: 34, 정답률: 85.8333%\n",
      "전체: 240, 맞은 개수: 205, 틀린 개수: 35, 정답률: 85.4167%\n",
      "전체: 240, 맞은 개수: 207, 틀린 개수: 33, 정답률: 86.2500%\n",
      "전체: 240, 맞은 개수: 207, 틀린 개수: 33, 정답률: 86.2500%\n",
      "전체: 240, 맞은 개수: 207, 틀린 개수: 33, 정답률: 86.2500%\n",
      "전체: 240, 맞은 개수: 208, 틀린 개수: 32, 정답률: 86.6667%\n",
      "전체: 240, 맞은 개수: 208, 틀린 개수: 32, 정답률: 86.6667%\n"
     ]
    }
   ],
   "source": [
    "for df in deepcopy(dfs):\n",
    "    _, _ = evaluate_retriever(df, topk=2)"
   ]
  },
  {
   "cell_type": "code",
   "execution_count": 33,
   "metadata": {},
   "outputs": [
    {
     "name": "stdout",
     "output_type": "stream",
     "text": [
      "전체: 240, 맞은 개수: 181, 틀린 개수: 59, 정답률: 75.4167%\n",
      "전체: 240, 맞은 개수: 185, 틀린 개수: 55, 정답률: 77.0833%\n",
      "전체: 240, 맞은 개수: 183, 틀린 개수: 57, 정답률: 76.2500%\n",
      "전체: 240, 맞은 개수: 183, 틀린 개수: 57, 정답률: 76.2500%\n",
      "전체: 240, 맞은 개수: 184, 틀린 개수: 56, 정답률: 76.6667%\n",
      "전체: 240, 맞은 개수: 184, 틀린 개수: 56, 정답률: 76.6667%\n",
      "전체: 240, 맞은 개수: 184, 틀린 개수: 56, 정답률: 76.6667%\n",
      "전체: 240, 맞은 개수: 184, 틀린 개수: 56, 정답률: 76.6667%\n",
      "전체: 240, 맞은 개수: 184, 틀린 개수: 56, 정답률: 76.6667%\n"
     ]
    }
   ],
   "source": [
    "for df in deepcopy(dfs):\n",
    "    _, _ = evaluate_retriever(df, topk=1)"
   ]
  },
  {
   "cell_type": "code",
   "execution_count": null,
   "metadata": {},
   "outputs": [],
   "source": []
  }
 ],
 "metadata": {
  "kernelspec": {
   "display_name": "MRC",
   "language": "python",
   "name": "python3"
  },
  "language_info": {
   "codemirror_mode": {
    "name": "ipython",
    "version": 3
   },
   "file_extension": ".py",
   "mimetype": "text/x-python",
   "name": "python",
   "nbconvert_exporter": "python",
   "pygments_lexer": "ipython3",
   "version": "3.10.14"
  }
 },
 "nbformat": 4,
 "nbformat_minor": 2
}
