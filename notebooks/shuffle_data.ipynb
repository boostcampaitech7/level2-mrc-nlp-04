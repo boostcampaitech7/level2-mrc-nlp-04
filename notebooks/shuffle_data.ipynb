{
 "cells": [
  {
   "cell_type": "code",
   "id": "initial_id",
   "metadata": {
    "collapsed": true,
    "ExecuteTime": {
     "end_time": "2024-10-17T06:26:46.383252Z",
     "start_time": "2024-10-17T06:26:46.097189Z"
    }
   },
   "source": [
    "import os\n",
    "import pandas as pd\n",
    "from datasets import Dataset, DatasetDict, load_from_disk\n",
    "\n",
    "# 데이터 경로 설정\n",
    "current_dir = os.getcwd()\n",
    "parent_dir = os.path.dirname(current_dir)\n",
    "augmented_data_path = os.path.join(parent_dir, 'data', 'augmented_dataset2')\n",
    "\n",
    "# 데이터를 다시 불러오기\n",
    "dataset = load_from_disk(augmented_data_path)\n",
    "\n",
    "# DataFrame으로 변환\n",
    "train_df = pd.DataFrame(dataset[\"train\"])\n",
    "valid_df = pd.DataFrame(dataset[\"validation\"])\n",
    "\n",
    "# Train과 Validation을 합침\n",
    "combined_df = pd.concat([train_df, valid_df], ignore_index=True)\n",
    "\n",
    "# 데이터 셔플\n",
    "shuffled_df = combined_df.sample(frac=1, random_state=42).reset_index(drop=True)\n",
    "\n",
    "# 원하는 비율 설정 (예시: 80% Train, 20% Validation)\n",
    "train_ratio = 0.9\n",
    "train_size = int(len(shuffled_df) * train_ratio)\n",
    "\n",
    "# Train과 Validation 나누기\n",
    "new_train_df = shuffled_df[:train_size]\n",
    "new_valid_df = shuffled_df[train_size:]\n",
    "\n",
    "# Dataset으로 변환\n",
    "new_train_dataset = Dataset.from_pandas(new_train_df)\n",
    "new_valid_dataset = Dataset.from_pandas(new_valid_df)\n",
    "\n",
    "# DatasetDict로 결합\n",
    "new_dataset_dict = DatasetDict({\n",
    "    \"train\": new_train_dataset,\n",
    "    \"validation\": new_valid_dataset,\n",
    "})\n",
    "\n",
    "# 다시 Arrow 파일로 저장\n",
    "output_dir = os.path.join(parent_dir, 'data', 'shuffled_dataset')\n",
    "new_dataset_dict.save_to_disk(output_dir)\n",
    "\n",
    "# 결과 확인\n",
    "print(f\"New augmented dataset saved to {output_dir}\")\n",
    "print(f\"Train size: {len(new_train_df)}, Validation size: {len(new_valid_df)}\")\n"
   ],
   "outputs": [
    {
     "name": "stderr",
     "output_type": "stream",
     "text": [
      "Saving the dataset (1/1 shards): 100%|██████████| 5547/5547 [00:00<00:00, 789715.36 examples/s]\n",
      "Saving the dataset (1/1 shards): 100%|██████████| 617/617 [00:00<00:00, 205029.76 examples/s]"
     ]
    },
    {
     "name": "stdout",
     "output_type": "stream",
     "text": [
      "New augmented dataset saved to D:\\boost-camp\\07주_MRC\\pj\\level2-mrc-nlp-04\\data\\shuffled_dataset\n",
      "Train size: 5547, Validation size: 617\n"
     ]
    },
    {
     "name": "stderr",
     "output_type": "stream",
     "text": [
      "\n"
     ]
    }
   ],
   "execution_count": 3
  },
  {
   "metadata": {},
   "cell_type": "code",
   "outputs": [],
   "execution_count": null,
   "source": "",
   "id": "3b1103fec637e31"
  }
 ],
 "metadata": {
  "kernelspec": {
   "display_name": "Python 3",
   "language": "python",
   "name": "python3"
  },
  "language_info": {
   "codemirror_mode": {
    "name": "ipython",
    "version": 2
   },
   "file_extension": ".py",
   "mimetype": "text/x-python",
   "name": "python",
   "nbconvert_exporter": "python",
   "pygments_lexer": "ipython2",
   "version": "2.7.6"
  }
 },
 "nbformat": 4,
 "nbformat_minor": 5
}
