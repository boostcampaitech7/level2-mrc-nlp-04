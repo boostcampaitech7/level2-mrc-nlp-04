{
 "cells": [
  {
   "cell_type": "markdown",
   "id": "1321e6ff-9980-411a-83d5-90364c486710",
   "metadata": {},
   "source": "# EDA를 통한 데이터의 형태, 문장길이, 데이터 수, 결측치 등을 파악"
  },
  {
   "cell_type": "code",
   "id": "f9c80410-55e7-4a38-9454-f2dc7c1fe8e5",
   "metadata": {
    "collapsed": true,
    "jupyter": {
     "outputs_hidden": true
    },
    "tags": [],
    "ExecuteTime": {
     "end_time": "2024-10-04T12:32:38.923349Z",
     "start_time": "2024-10-04T12:32:36.198622Z"
    }
   },
   "source": [
    "!pip install seaborn\n",
    "!pip install pyarrow"
   ],
   "outputs": [
    {
     "name": "stdout",
     "output_type": "stream",
     "text": [
      "Requirement already satisfied: seaborn in c:\\users\\spdlq\\.conda\\envs\\boost-camp1\\lib\\site-packages (0.13.2)\n",
      "Requirement already satisfied: numpy!=1.24.0,>=1.20 in c:\\users\\spdlq\\.conda\\envs\\boost-camp1\\lib\\site-packages (from seaborn) (1.26.4)\n",
      "Requirement already satisfied: pandas>=1.2 in c:\\users\\spdlq\\.conda\\envs\\boost-camp1\\lib\\site-packages (from seaborn) (2.2.2)\n",
      "Requirement already satisfied: matplotlib!=3.6.1,>=3.4 in c:\\users\\spdlq\\.conda\\envs\\boost-camp1\\lib\\site-packages (from seaborn) (3.9.2)\n",
      "Requirement already satisfied: contourpy>=1.0.1 in c:\\users\\spdlq\\.conda\\envs\\boost-camp1\\lib\\site-packages (from matplotlib!=3.6.1,>=3.4->seaborn) (1.2.0)\n",
      "Requirement already satisfied: cycler>=0.10 in c:\\users\\spdlq\\.conda\\envs\\boost-camp1\\lib\\site-packages (from matplotlib!=3.6.1,>=3.4->seaborn) (0.11.0)\n",
      "Requirement already satisfied: fonttools>=4.22.0 in c:\\users\\spdlq\\.conda\\envs\\boost-camp1\\lib\\site-packages (from matplotlib!=3.6.1,>=3.4->seaborn) (4.51.0)\n",
      "Requirement already satisfied: kiwisolver>=1.3.1 in c:\\users\\spdlq\\.conda\\envs\\boost-camp1\\lib\\site-packages (from matplotlib!=3.6.1,>=3.4->seaborn) (1.4.4)\n",
      "Requirement already satisfied: packaging>=20.0 in c:\\users\\spdlq\\.conda\\envs\\boost-camp1\\lib\\site-packages (from matplotlib!=3.6.1,>=3.4->seaborn) (24.1)\n",
      "Requirement already satisfied: pillow>=8 in c:\\users\\spdlq\\.conda\\envs\\boost-camp1\\lib\\site-packages (from matplotlib!=3.6.1,>=3.4->seaborn) (10.4.0)\n",
      "Requirement already satisfied: pyparsing>=2.3.1 in c:\\users\\spdlq\\.conda\\envs\\boost-camp1\\lib\\site-packages (from matplotlib!=3.6.1,>=3.4->seaborn) (3.1.2)\n",
      "Requirement already satisfied: python-dateutil>=2.7 in c:\\users\\spdlq\\.conda\\envs\\boost-camp1\\lib\\site-packages (from matplotlib!=3.6.1,>=3.4->seaborn) (2.9.0.post0)\n",
      "Requirement already satisfied: pytz>=2020.1 in c:\\users\\spdlq\\.conda\\envs\\boost-camp1\\lib\\site-packages (from pandas>=1.2->seaborn) (2024.1)\n",
      "Requirement already satisfied: tzdata>=2022.7 in c:\\users\\spdlq\\.conda\\envs\\boost-camp1\\lib\\site-packages (from pandas>=1.2->seaborn) (2023.3)\n",
      "Requirement already satisfied: six>=1.5 in c:\\users\\spdlq\\.conda\\envs\\boost-camp1\\lib\\site-packages (from python-dateutil>=2.7->matplotlib!=3.6.1,>=3.4->seaborn) (1.16.0)\n",
      "Requirement already satisfied: pyarrow in c:\\users\\spdlq\\.conda\\envs\\boost-camp1\\lib\\site-packages (17.0.0)\n",
      "Requirement already satisfied: numpy>=1.16.6 in c:\\users\\spdlq\\.conda\\envs\\boost-camp1\\lib\\site-packages (from pyarrow) (1.26.4)\n"
     ]
    }
   ],
   "execution_count": 21
  },
  {
   "cell_type": "markdown",
   "id": "30f5a4a2-60f9-483c-a452-60ca1ed104c8",
   "metadata": {},
   "source": "# wiki.json"
  },
  {
   "cell_type": "code",
   "id": "f1e68eea-4382-4db3-8f8c-1e7dec2d116f",
   "metadata": {
    "tags": [],
    "ExecuteTime": {
     "end_time": "2024-10-04T13:43:32.540576Z",
     "start_time": "2024-10-04T13:43:24.389587Z"
    }
   },
   "source": [
    "import json\n",
    "import pandas as pd\n",
    "from pandas import json_normalize\n",
    "from datasets import load_from_disk\n",
    "import os\n",
    "\n",
    "current_dir = os.getcwd()\n",
    "parent_dir = os.path.dirname(current_dir)\n",
    "file_path = os.path.join(parent_dir, 'data', \"wikipedia_documents.json\")\n",
    "\n",
    "with open(file_path, \"r\", encoding=\"utf-8\") as json_file:\n",
    "    json_data = json.load(json_file)\n",
    "    \n",
    "df_wiki=pd.read_json(file_path).transpose()"
   ],
   "outputs": [],
   "execution_count": 131
  },
  {
   "cell_type": "markdown",
   "id": "22f9f520-ea09-4414-b021-84fa12ed3267",
   "metadata": {},
   "source": "## 데이터의 형태"
  },
  {
   "cell_type": "code",
   "id": "355a79f2-7f84-4530-b28d-430b4ddaf5ec",
   "metadata": {
    "ExecuteTime": {
     "end_time": "2024-10-04T13:44:32.420465Z",
     "start_time": "2024-10-04T13:44:32.413441Z"
    }
   },
   "source": "json_data[\"0\"]",
   "outputs": [
    {
     "data": {
      "text/plain": [
       "{'text': '이 문서는 나라 목록이며, 전 세계 206개 나라의 각 현황과 주권 승인 정보를 개요 형태로 나열하고 있다.\\n\\n이 목록은 명료화를 위해 두 부분으로 나뉘어 있다.\\n\\n# 첫 번째 부분은 바티칸 시국과 팔레스타인을 포함하여 유엔 등 국제 기구에 가입되어 국제적인 승인을 널리 받았다고 여기는 195개 나라를 나열하고 있다.\\n# 두 번째 부분은 일부 지역의 주권을 사실상 (데 팍토) 행사하고 있지만, 아직 국제적인 승인을 널리 받지 않았다고 여기는 11개 나라를 나열하고 있다.\\n\\n두 목록은 모두 가나다 순이다.\\n\\n일부 국가의 경우 국가로서의 자격에 논쟁의 여부가 있으며, 이 때문에 이러한 목록을 엮는 것은 매우 어렵고 논란이 생길 수 있는 과정이다. 이 목록을 구성하고 있는 국가를 선정하는 기준에 대한 정보는 \"포함 기준\" 단락을 통해 설명하였다. 나라에 대한 일반적인 정보는 \"국가\" 문서에서 설명하고 있다.',\n",
       " 'corpus_source': '위키피디아',\n",
       " 'url': 'TODO',\n",
       " 'domain': None,\n",
       " 'title': '나라 목록',\n",
       " 'author': None,\n",
       " 'html': None,\n",
       " 'document_id': 0}"
      ]
     },
     "execution_count": 134,
     "metadata": {},
     "output_type": "execute_result"
    }
   ],
   "execution_count": 134
  },
  {
   "cell_type": "code",
   "id": "db0eae65-6ea5-4545-a2a1-57269f73c44a",
   "metadata": {
    "ExecuteTime": {
     "end_time": "2024-10-04T13:44:32.700420Z",
     "start_time": "2024-10-04T13:44:32.696152Z"
    }
   },
   "source": [
    "for key,value in json_data[\"0\"].items():\n",
    "    print(f\"{key} : {value}\\n\")"
   ],
   "outputs": [
    {
     "name": "stdout",
     "output_type": "stream",
     "text": [
      "text : 이 문서는 나라 목록이며, 전 세계 206개 나라의 각 현황과 주권 승인 정보를 개요 형태로 나열하고 있다.\n",
      "\n",
      "이 목록은 명료화를 위해 두 부분으로 나뉘어 있다.\n",
      "\n",
      "# 첫 번째 부분은 바티칸 시국과 팔레스타인을 포함하여 유엔 등 국제 기구에 가입되어 국제적인 승인을 널리 받았다고 여기는 195개 나라를 나열하고 있다.\n",
      "# 두 번째 부분은 일부 지역의 주권을 사실상 (데 팍토) 행사하고 있지만, 아직 국제적인 승인을 널리 받지 않았다고 여기는 11개 나라를 나열하고 있다.\n",
      "\n",
      "두 목록은 모두 가나다 순이다.\n",
      "\n",
      "일부 국가의 경우 국가로서의 자격에 논쟁의 여부가 있으며, 이 때문에 이러한 목록을 엮는 것은 매우 어렵고 논란이 생길 수 있는 과정이다. 이 목록을 구성하고 있는 국가를 선정하는 기준에 대한 정보는 \"포함 기준\" 단락을 통해 설명하였다. 나라에 대한 일반적인 정보는 \"국가\" 문서에서 설명하고 있다.\n",
      "\n",
      "corpus_source : 위키피디아\n",
      "\n",
      "url : TODO\n",
      "\n",
      "domain : None\n",
      "\n",
      "title : 나라 목록\n",
      "\n",
      "author : None\n",
      "\n",
      "html : None\n",
      "\n",
      "document_id : 0\n",
      "\n"
     ]
    }
   ],
   "execution_count": 135
  },
  {
   "cell_type": "markdown",
   "id": "658db3a9-ce48-43c5-bffa-8b18fcefa3f1",
   "metadata": {},
   "source": "## 데이터의 수 & 문장 길이"
  },
  {
   "cell_type": "code",
   "id": "ca6bd72e-64fb-43fc-889b-d91ce5660cd6",
   "metadata": {
    "ExecuteTime": {
     "end_time": "2024-10-04T16:44:34.574418Z",
     "start_time": "2024-10-04T16:44:32.963564Z"
    }
   },
   "source": [
    "import seaborn as sns\n",
    "import matplotlib.pyplot as plt\n",
    "\n",
    "# 텍스트 길이를 저장하는 열 추가 (이미 있다면 생략 가능)\n",
    "df_wiki['text_len'] = df_wiki['text'].apply(len)\n",
    "\n",
    "# 서브플롯 설정: 1행 2열로 그래프 배치\n",
    "plt.figure(figsize=(14, 6))\n",
    "\n",
    "# 첫 번째 서브플롯: 히스토그램\n",
    "plt.subplot(1, 2, 1)\n",
    "sns.histplot(df_wiki[\"text_len\"], kde=True, color='blue')\n",
    "plt.xlabel(\"Length of Data\")\n",
    "plt.ylabel(\"Frequency\")\n",
    "plt.title(\"Wiki Text Data Length Distribution\")\n",
    "\n",
    "# 두 번째 서브플롯: 박스플롯\n",
    "plt.subplot(1, 2, 2)\n",
    "sns.boxplot(y=df_wiki[\"text_len\"], color='green')\n",
    "plt.ylabel(\"Length of Data\")\n",
    "plt.title(\"Wiki Text Data Length (Boxplot)\")\n",
    "\n",
    "# 그래프 보여주기\n",
    "plt.tight_layout()\n",
    "plt.show()\n"
   ],
   "outputs": [
    {
     "data": {
      "text/plain": [
       "<Figure size 1400x600 with 2 Axes>"
      ],
      "image/png": "[encoded data removed]"
     },
     "metadata": {},
     "output_type": "display_data"
    }
   ],
   "execution_count": 148
  },
  {
   "metadata": {},
   "cell_type": "markdown",
   "source": "### 굉장히 outlier가 큰 형태, 그걸 분리해서 보자",
   "id": "b69554a5ad426e89"
  },
  {
   "metadata": {
    "ExecuteTime": {
     "end_time": "2024-10-04T16:51:56.136838Z",
     "start_time": "2024-10-04T16:51:55.720065Z"
    }
   },
   "cell_type": "code",
   "source": [
    "# 상한 IQR 계산\n",
    "Q1 = df_wiki['text_len'].quantile(0.25)\n",
    "Q3 = df_wiki['text_len'].quantile(0.75)\n",
    "IQR = Q3 - Q1  # IQR = Q3 - Q1\n",
    "\n",
    "# 아웃라이어 제거: Q3 + 1.5 * IQR보다 큰 값만 제거 (상단 아웃라이어 제거)\n",
    "df_wiki_filtered = df_wiki[df_wiki['text_len'] <= Q3 + 1.5 * IQR]\n",
    "\n",
    "# 서브플롯 설정: 1행 2열로 그래프 배치\n",
    "plt.figure(figsize=(14, 6))\n",
    "\n",
    "# 첫 번째 서브플롯: 아웃라이어 제거 후 히스토그램\n",
    "plt.subplot(1, 2, 1)\n",
    "sns.histplot(df_wiki_filtered[\"text_len\"], kde=True, color='blue')\n",
    "plt.xlabel(\"Length of Data\")\n",
    "plt.ylabel(\"Frequency\")\n",
    "plt.title(\"Filtered Wiki Text Data Length Distribution (Upper Outliers Removed)\")\n",
    "\n",
    "# 두 번째 서브플롯: 아웃라이어 제거 후 박스플롯\n",
    "plt.subplot(1, 2, 2)\n",
    "sns.boxplot(y=df_wiki_filtered[\"text_len\"], color='green')\n",
    "plt.ylabel(\"Length of Data\")\n",
    "plt.title(\"Filtered Wiki Text Data Length (Boxplot, Upper Outliers Removed)\")\n",
    "\n",
    "# 그래프 보여주기\n",
    "plt.tight_layout()\n",
    "plt.show()\n"
   ],
   "id": "43612e561230a343",
   "outputs": [
    {
     "data": {
      "text/plain": [
       "<Figure size 1400x600 with 2 Axes>"
      ],
      "image/png": "[encoded data removed]"
     },
     "metadata": {},
     "output_type": "display_data"
    }
   ],
   "execution_count": 152
  },
  {
   "metadata": {
    "ExecuteTime": {
     "end_time": "2024-10-04T16:54:11.519999Z",
     "start_time": "2024-10-04T16:54:11.498859Z"
    }
   },
   "cell_type": "code",
   "source": [
    "# 아웃라이어만 추출 (Q3 + 1.5 * IQR 이상의 값)\n",
    "outliers = df_wiki[(df_wiki['text_len'] > Q3 + 1.5 * IQR)]\n",
    "\n",
    "# 아웃라이어를 'text_len' 기준으로 내림차순 정렬\n",
    "outliers_sorted = outliers.sort_values(by='text_len', ascending=False)\n",
    "\n",
    "# 아웃라이어의 일부 확인 (정렬된 상태)\n",
    "display(outliers_sorted.head())\n"
   ],
   "id": "751fec71ad8fd52f",
   "outputs": [
    {
     "data": {
      "text/plain": [
       "                                                   text corpus_source   url  \\\n",
       "9102  어딘 실이니 례예 여재라\\n\\n○ 呂滎公名希哲, 字原明. 申國正獻公之長子. 正...         위키피디아  None   \n",
       "4548  어딘 실이니 례예 여재라\\n\\n○ 呂滎公名希哲, 字原明. 申國正獻公之長子. 正...         위키피디아  TODO   \n",
       "4547  아다온 말이니 례예 다재라\\n\\n○ 橫渠張先生曰, 敎小兒, 先要安詳恭敬. 今...         위키피디아  TODO   \n",
       "9101  아다온 말이니 례예 다재라\\n\\n○ 橫渠張先生曰, 敎小兒, 先要安詳恭敬. 今...         위키피디아  None   \n",
       "9756  1907년 이후 하와이에 건너가 살던 조선인 노동자들은 하와이 농장에서 사탕수수와 ...         위키피디아  None   \n",
       "\n",
       "     domain  title author  html document_id  text_length  text_len  \n",
       "9102   None   소학언해   None  None        9102        46099     46099  \n",
       "4548   None   소학언해   None  None        4548        46099     46099  \n",
       "4547   None   소학언해   None  None        4547        41411     41411  \n",
       "9101   None   소학언해   None  None        9101        41411     41411  \n",
       "9756   None  사진 신부   None  None        9756        29016     29016  "
      ],
      "text/html": [
       "<div>\n",
       "<style scoped>\n",
       "    .dataframe tbody tr th:only-of-type {\n",
       "        vertical-align: middle;\n",
       "    }\n",
       "\n",
       "    .dataframe tbody tr th {\n",
       "        vertical-align: top;\n",
       "    }\n",
       "\n",
       "    .dataframe thead th {\n",
       "        text-align: right;\n",
       "    }\n",
       "</style>\n",
       "<table border=\"1\" class=\"dataframe\">\n",
       "  <thead>\n",
       "    <tr style=\"text-align: right;\">\n",
       "      <th></th>\n",
       "      <th>text</th>\n",
       "      <th>corpus_source</th>\n",
       "      <th>url</th>\n",
       "      <th>domain</th>\n",
       "      <th>title</th>\n",
       "      <th>author</th>\n",
       "      <th>html</th>\n",
       "      <th>document_id</th>\n",
       "      <th>text_length</th>\n",
       "      <th>text_len</th>\n",
       "    </tr>\n",
       "  </thead>\n",
       "  <tbody>\n",
       "    <tr>\n",
       "      <th>9102</th>\n",
       "      <td>어딘 실이니 례예 여재라\\n\\n○ 呂滎公名希哲, 字原明. 申國正獻公之長子. 正...</td>\n",
       "      <td>위키피디아</td>\n",
       "      <td>None</td>\n",
       "      <td>None</td>\n",
       "      <td>소학언해</td>\n",
       "      <td>None</td>\n",
       "      <td>None</td>\n",
       "      <td>9102</td>\n",
       "      <td>46099</td>\n",
       "      <td>46099</td>\n",
       "    </tr>\n",
       "    <tr>\n",
       "      <th>4548</th>\n",
       "      <td>어딘 실이니 례예 여재라\\n\\n○ 呂滎公名希哲, 字原明. 申國正獻公之長子. 正...</td>\n",
       "      <td>위키피디아</td>\n",
       "      <td>TODO</td>\n",
       "      <td>None</td>\n",
       "      <td>소학언해</td>\n",
       "      <td>None</td>\n",
       "      <td>None</td>\n",
       "      <td>4548</td>\n",
       "      <td>46099</td>\n",
       "      <td>46099</td>\n",
       "    </tr>\n",
       "    <tr>\n",
       "      <th>4547</th>\n",
       "      <td>아다온 말이니 례예 다재라\\n\\n○ 橫渠張先生曰, 敎小兒, 先要安詳恭敬. 今...</td>\n",
       "      <td>위키피디아</td>\n",
       "      <td>TODO</td>\n",
       "      <td>None</td>\n",
       "      <td>소학언해</td>\n",
       "      <td>None</td>\n",
       "      <td>None</td>\n",
       "      <td>4547</td>\n",
       "      <td>41411</td>\n",
       "      <td>41411</td>\n",
       "    </tr>\n",
       "    <tr>\n",
       "      <th>9101</th>\n",
       "      <td>아다온 말이니 례예 다재라\\n\\n○ 橫渠張先生曰, 敎小兒, 先要安詳恭敬. 今...</td>\n",
       "      <td>위키피디아</td>\n",
       "      <td>None</td>\n",
       "      <td>None</td>\n",
       "      <td>소학언해</td>\n",
       "      <td>None</td>\n",
       "      <td>None</td>\n",
       "      <td>9101</td>\n",
       "      <td>41411</td>\n",
       "      <td>41411</td>\n",
       "    </tr>\n",
       "    <tr>\n",
       "      <th>9756</th>\n",
       "      <td>1907년 이후 하와이에 건너가 살던 조선인 노동자들은 하와이 농장에서 사탕수수와 ...</td>\n",
       "      <td>위키피디아</td>\n",
       "      <td>None</td>\n",
       "      <td>None</td>\n",
       "      <td>사진 신부</td>\n",
       "      <td>None</td>\n",
       "      <td>None</td>\n",
       "      <td>9756</td>\n",
       "      <td>29016</td>\n",
       "      <td>29016</td>\n",
       "    </tr>\n",
       "  </tbody>\n",
       "</table>\n",
       "</div>"
      ]
     },
     "metadata": {},
     "output_type": "display_data"
    }
   ],
   "execution_count": 160
  },
  {
   "metadata": {},
   "cell_type": "markdown",
   "source": "URL이 None과 Todo타입으로 나뉘며 보통 2개씩 존재하는듯",
   "id": "8f23e9483350a36f"
  },
  {
   "cell_type": "markdown",
   "id": "eff4d699-32a3-471b-8db9-5dec4887e29f",
   "metadata": {},
   "source": "## 중복 & 결측치 확인"
  },
  {
   "cell_type": "code",
   "id": "a633c731-37bd-4b0e-8a25-2d3acbc552e7",
   "metadata": {
    "ExecuteTime": {
     "end_time": "2024-10-04T16:56:38.594893Z",
     "start_time": "2024-10-04T16:56:38.571589Z"
    }
   },
   "source": [
    "df_wiki.info()"
   ],
   "outputs": [
    {
     "name": "stdout",
     "output_type": "stream",
     "text": [
      "<class 'pandas.core.frame.DataFrame'>\n",
      "Index: 60613 entries, 0 to 60612\n",
      "Data columns (total 10 columns):\n",
      " #   Column         Non-Null Count  Dtype \n",
      "---  ------         --------------  ----- \n",
      " 0   text           60613 non-null  object\n",
      " 1   corpus_source  60613 non-null  object\n",
      " 2   url            4554 non-null   object\n",
      " 3   domain         0 non-null      object\n",
      " 4   title          60613 non-null  object\n",
      " 5   author         0 non-null      object\n",
      " 6   html           0 non-null      object\n",
      " 7   document_id    60613 non-null  object\n",
      " 8   text_length    60613 non-null  int64 \n",
      " 9   text_len       60613 non-null  int64 \n",
      "dtypes: int64(2), object(8)\n",
      "memory usage: 7.1+ MB\n"
     ]
    }
   ],
   "execution_count": 161
  },
  {
   "cell_type": "code",
   "id": "ea0a4216-09cc-4c6b-830f-4d1a0653d569",
   "metadata": {
    "ExecuteTime": {
     "end_time": "2024-10-04T17:18:12.044558Z",
     "start_time": "2024-10-04T17:18:11.830075Z"
    }
   },
   "source": [
    "df_wiki.nunique()"
   ],
   "outputs": [
    {
     "data": {
      "text/plain": [
       "text             56737\n",
       "corpus_source        1\n",
       "url                  1\n",
       "domain               0\n",
       "title            31755\n",
       "author               0\n",
       "html                 0\n",
       "document_id      60613\n",
       "text_length       2912\n",
       "text_len          2912\n",
       "dtype: int64"
      ]
     },
     "execution_count": 163,
     "metadata": {},
     "output_type": "execute_result"
    }
   ],
   "execution_count": 163
  },
  {
   "cell_type": "code",
   "execution_count": 158,
   "id": "e0c716d2-99ec-47b0-bc0e-d60cbd41109c",
   "metadata": {},
   "outputs": [
    {
     "data": {
      "text/plain": [
       "3876"
      ]
     },
     "execution_count": 158,
     "metadata": {},
     "output_type": "execute_result"
    }
   ],
   "source": [
    "sum(df_wiki[\"text\"].duplicated())"
   ]
  },
  {
   "cell_type": "code",
   "execution_count": 161,
   "id": "d54f2069-d229-4033-9411-63be7b1d765e",
   "metadata": {},
   "outputs": [
    {
     "data": {
      "text/html": [
       "<div>\n",
       "<style scoped>\n",
       "    .dataframe tbody tr th:only-of-type {\n",
       "        vertical-align: middle;\n",
       "    }\n",
       "\n",
       "    .dataframe tbody tr th {\n",
       "        vertical-align: top;\n",
       "    }\n",
       "\n",
       "    .dataframe thead th {\n",
       "        text-align: right;\n",
       "    }\n",
       "</style>\n",
       "<table border=\"1\" class=\"dataframe\">\n",
       "  <thead>\n",
       "    <tr style=\"text-align: right;\">\n",
       "      <th></th>\n",
       "      <th>text</th>\n",
       "      <th>corpus_source</th>\n",
       "      <th>url</th>\n",
       "      <th>domain</th>\n",
       "      <th>title</th>\n",
       "      <th>author</th>\n",
       "      <th>html</th>\n",
       "      <th>document_id</th>\n",
       "      <th>text_length</th>\n",
       "    </tr>\n",
       "  </thead>\n",
       "  <tbody>\n",
       "    <tr>\n",
       "      <th>3859</th>\n",
       "      <td>\"Robots.txt\"는 이 문서를 가리킵니다. 위키백과의 Robots.txt의 파...</td>\n",
       "      <td>위키피디아</td>\n",
       "      <td>TODO</td>\n",
       "      <td>None</td>\n",
       "      <td>로봇 배제 표준</td>\n",
       "      <td>None</td>\n",
       "      <td>None</td>\n",
       "      <td>3859</td>\n",
       "      <td>429</td>\n",
       "    </tr>\n",
       "    <tr>\n",
       "      <th>8413</th>\n",
       "      <td>\"Robots.txt\"는 이 문서를 가리킵니다. 위키백과의 Robots.txt의 파...</td>\n",
       "      <td>위키피디아</td>\n",
       "      <td>None</td>\n",
       "      <td>None</td>\n",
       "      <td>로봇 배제 표준</td>\n",
       "      <td>None</td>\n",
       "      <td>None</td>\n",
       "      <td>8413</td>\n",
       "      <td>429</td>\n",
       "    </tr>\n",
       "    <tr>\n",
       "      <th>6873</th>\n",
       "      <td>\"들어오지 못하게, 나가지 못하게, 나가도 쓰지 못하게”라는 삼성SDS 고유의 보안...</td>\n",
       "      <td>위키피디아</td>\n",
       "      <td>None</td>\n",
       "      <td>None</td>\n",
       "      <td>삼성SDS</td>\n",
       "      <td>None</td>\n",
       "      <td>None</td>\n",
       "      <td>6873</td>\n",
       "      <td>728</td>\n",
       "    </tr>\n",
       "    <tr>\n",
       "      <th>2319</th>\n",
       "      <td>\"들어오지 못하게, 나가지 못하게, 나가도 쓰지 못하게”라는 삼성SDS 고유의 보안...</td>\n",
       "      <td>위키피디아</td>\n",
       "      <td>TODO</td>\n",
       "      <td>None</td>\n",
       "      <td>삼성SDS</td>\n",
       "      <td>None</td>\n",
       "      <td>None</td>\n",
       "      <td>2319</td>\n",
       "      <td>728</td>\n",
       "    </tr>\n",
       "    <tr>\n",
       "      <th>3744</th>\n",
       "      <td>\"아미타불\"이라는 낱말은 무량광(無量光: 헤아릴 수 없는 광명을 가진 것)의 뜻인 ...</td>\n",
       "      <td>위키피디아</td>\n",
       "      <td>TODO</td>\n",
       "      <td>None</td>\n",
       "      <td>아미타불</td>\n",
       "      <td>None</td>\n",
       "      <td>None</td>\n",
       "      <td>3744</td>\n",
       "      <td>414</td>\n",
       "    </tr>\n",
       "    <tr>\n",
       "      <th>...</th>\n",
       "      <td>...</td>\n",
       "      <td>...</td>\n",
       "      <td>...</td>\n",
       "      <td>...</td>\n",
       "      <td>...</td>\n",
       "      <td>...</td>\n",
       "      <td>...</td>\n",
       "      <td>...</td>\n",
       "      <td>...</td>\n",
       "    </tr>\n",
       "    <tr>\n",
       "      <th>6497</th>\n",
       "      <td>힌디어(हिन्दी, Hindi)는 인도유럽어족의 인도이란어파에 속하는 언어로, 영...</td>\n",
       "      <td>위키피디아</td>\n",
       "      <td>None</td>\n",
       "      <td>None</td>\n",
       "      <td>힌디어</td>\n",
       "      <td>None</td>\n",
       "      <td>None</td>\n",
       "      <td>6497</td>\n",
       "      <td>314</td>\n",
       "    </tr>\n",
       "    <tr>\n",
       "      <th>7107</th>\n",
       "      <td>힘이 물체의 운동 방향으로 작용하면, 물체의 운동량이 증가하고 힘이 일을 하므로 에...</td>\n",
       "      <td>위키피디아</td>\n",
       "      <td>None</td>\n",
       "      <td>None</td>\n",
       "      <td>질량-에너지 등가</td>\n",
       "      <td>None</td>\n",
       "      <td>None</td>\n",
       "      <td>7107</td>\n",
       "      <td>609</td>\n",
       "    </tr>\n",
       "    <tr>\n",
       "      <th>2553</th>\n",
       "      <td>힘이 물체의 운동 방향으로 작용하면, 물체의 운동량이 증가하고 힘이 일을 하므로 에...</td>\n",
       "      <td>위키피디아</td>\n",
       "      <td>TODO</td>\n",
       "      <td>None</td>\n",
       "      <td>질량-에너지 등가</td>\n",
       "      <td>None</td>\n",
       "      <td>None</td>\n",
       "      <td>2553</td>\n",
       "      <td>609</td>\n",
       "    </tr>\n",
       "    <tr>\n",
       "      <th>9096</th>\n",
       "      <td>치 셰미니 례예 낫재라.\\n\\n○ 子思子曰, 天命之謂性, 率性之謂道, 修道...</td>\n",
       "      <td>위키피디아</td>\n",
       "      <td>None</td>\n",
       "      <td>None</td>\n",
       "      <td>소학언해</td>\n",
       "      <td>None</td>\n",
       "      <td>None</td>\n",
       "      <td>9096</td>\n",
       "      <td>5516</td>\n",
       "    </tr>\n",
       "    <tr>\n",
       "      <th>4542</th>\n",
       "      <td>치 셰미니 례예 낫재라.\\n\\n○ 子思子曰, 天命之謂性, 率性之謂道, 修道...</td>\n",
       "      <td>위키피디아</td>\n",
       "      <td>TODO</td>\n",
       "      <td>None</td>\n",
       "      <td>소학언해</td>\n",
       "      <td>None</td>\n",
       "      <td>None</td>\n",
       "      <td>4542</td>\n",
       "      <td>5516</td>\n",
       "    </tr>\n",
       "  </tbody>\n",
       "</table>\n",
       "<p>7677 rows × 9 columns</p>\n",
       "</div>"
      ],
      "text/plain": [
       "                                                   text corpus_source   url  \\\n",
       "3859  \"Robots.txt\"는 이 문서를 가리킵니다. 위키백과의 Robots.txt의 파...         위키피디아  TODO   \n",
       "8413  \"Robots.txt\"는 이 문서를 가리킵니다. 위키백과의 Robots.txt의 파...         위키피디아  None   \n",
       "6873  \"들어오지 못하게, 나가지 못하게, 나가도 쓰지 못하게”라는 삼성SDS 고유의 보안...         위키피디아  None   \n",
       "2319  \"들어오지 못하게, 나가지 못하게, 나가도 쓰지 못하게”라는 삼성SDS 고유의 보안...         위키피디아  TODO   \n",
       "3744  \"아미타불\"이라는 낱말은 무량광(無量光: 헤아릴 수 없는 광명을 가진 것)의 뜻인 ...         위키피디아  TODO   \n",
       "...                                                 ...           ...   ...   \n",
       "6497  힌디어(हिन्दी, Hindi)는 인도유럽어족의 인도이란어파에 속하는 언어로, 영...         위키피디아  None   \n",
       "7107  힘이 물체의 운동 방향으로 작용하면, 물체의 운동량이 증가하고 힘이 일을 하므로 에...         위키피디아  None   \n",
       "2553  힘이 물체의 운동 방향으로 작용하면, 물체의 운동량이 증가하고 힘이 일을 하므로 에...         위키피디아  TODO   \n",
       "9096  치 셰미니 례예 낫재라.\\n\\n○ 子思子曰, 天命之謂性, 率性之謂道, 修道...         위키피디아  None   \n",
       "4542  치 셰미니 례예 낫재라.\\n\\n○ 子思子曰, 天命之謂性, 率性之謂道, 修道...         위키피디아  TODO   \n",
       "\n",
       "     domain      title author  html document_id  text_length  \n",
       "3859   None   로봇 배제 표준   None  None        3859          429  \n",
       "8413   None   로봇 배제 표준   None  None        8413          429  \n",
       "6873   None      삼성SDS   None  None        6873          728  \n",
       "2319   None      삼성SDS   None  None        2319          728  \n",
       "3744   None       아미타불   None  None        3744          414  \n",
       "...     ...        ...    ...   ...         ...          ...  \n",
       "6497   None        힌디어   None  None        6497          314  \n",
       "7107   None  질량-에너지 등가   None  None        7107          609  \n",
       "2553   None  질량-에너지 등가   None  None        2553          609  \n",
       "9096   None       소학언해   None  None        9096         5516  \n",
       "4542   None       소학언해   None  None        4542         5516  \n",
       "\n",
       "[7677 rows x 9 columns]"
      ]
     },
     "execution_count": 161,
     "metadata": {},
     "output_type": "execute_result"
    }
   ],
   "source": [
    "df_wiki[df_wiki[['text']].duplicated(keep=False)].sort_values('text')"
   ]
  },
  {
   "cell_type": "code",
   "execution_count": 288,
   "id": "f09a3b03-7f14-41db-a7cd-5be790a99d68",
   "metadata": {},
   "outputs": [
    {
     "data": {
      "text/html": [
       "<div>\n",
       "<style scoped>\n",
       "    .dataframe tbody tr th:only-of-type {\n",
       "        vertical-align: middle;\n",
       "    }\n",
       "\n",
       "    .dataframe tbody tr th {\n",
       "        vertical-align: top;\n",
       "    }\n",
       "\n",
       "    .dataframe thead th {\n",
       "        text-align: right;\n",
       "    }\n",
       "</style>\n",
       "<table border=\"1\" class=\"dataframe\">\n",
       "  <thead>\n",
       "    <tr style=\"text-align: right;\">\n",
       "      <th></th>\n",
       "      <th>text</th>\n",
       "      <th>corpus_source</th>\n",
       "      <th>url</th>\n",
       "      <th>domain</th>\n",
       "      <th>title</th>\n",
       "      <th>author</th>\n",
       "      <th>html</th>\n",
       "      <th>document_id</th>\n",
       "      <th>text_length</th>\n",
       "    </tr>\n",
       "  </thead>\n",
       "  <tbody>\n",
       "    <tr>\n",
       "      <th>49841</th>\n",
       "      <td>10대 닥터\\n \\n*TARDISODE 8\\n*\"The beast and his a...</td>\n",
       "      <td>위키피디아</td>\n",
       "      <td>None</td>\n",
       "      <td>None</td>\n",
       "      <td>The Satan Pit</td>\n",
       "      <td>None</td>\n",
       "      <td>None</td>\n",
       "      <td>49841</td>\n",
       "      <td>319</td>\n",
       "    </tr>\n",
       "    <tr>\n",
       "      <th>60263</th>\n",
       "      <td>19세기 말부터 러시아의 진보적 귀족과 러시아 농촌 내 농민에게서 자생적으로 발생한...</td>\n",
       "      <td>위키피디아</td>\n",
       "      <td>None</td>\n",
       "      <td>None</td>\n",
       "      <td>노농동맹</td>\n",
       "      <td>None</td>\n",
       "      <td>None</td>\n",
       "      <td>60263</td>\n",
       "      <td>765</td>\n",
       "    </tr>\n",
       "    <tr>\n",
       "      <th>56384</th>\n",
       "      <td>2000년부터 김정일은 독립채산제로 인한 자체 수익 사업을 권장하며 방위산업이든 일...</td>\n",
       "      <td>위키피디아</td>\n",
       "      <td>None</td>\n",
       "      <td>None</td>\n",
       "      <td>89호집적회로공장</td>\n",
       "      <td>None</td>\n",
       "      <td>None</td>\n",
       "      <td>56384</td>\n",
       "      <td>599</td>\n",
       "    </tr>\n",
       "    <tr>\n",
       "      <th>56109</th>\n",
       "      <td>2000년부터 김정일은 독립채산제로 인한 자체 수익 사업을 권장하며 방위산업이든 일...</td>\n",
       "      <td>위키피디아</td>\n",
       "      <td>None</td>\n",
       "      <td>None</td>\n",
       "      <td>평양집적회로시험공장</td>\n",
       "      <td>None</td>\n",
       "      <td>None</td>\n",
       "      <td>56109</td>\n",
       "      <td>599</td>\n",
       "    </tr>\n",
       "    <tr>\n",
       "      <th>49062</th>\n",
       "      <td>2018년 동계 올림픽 크로스컨트리 예선\\n올림픽 대회에 앞서 선수 선발전이 진행됐...</td>\n",
       "      <td>위키피디아</td>\n",
       "      <td>None</td>\n",
       "      <td>None</td>\n",
       "      <td>2018년 동계 올림픽 크로스컨트리 여자 10km 프리</td>\n",
       "      <td>None</td>\n",
       "      <td>None</td>\n",
       "      <td>49062</td>\n",
       "      <td>524</td>\n",
       "    </tr>\n",
       "    <tr>\n",
       "      <th>...</th>\n",
       "      <td>...</td>\n",
       "      <td>...</td>\n",
       "      <td>...</td>\n",
       "      <td>...</td>\n",
       "      <td>...</td>\n",
       "      <td>...</td>\n",
       "      <td>...</td>\n",
       "      <td>...</td>\n",
       "      <td>...</td>\n",
       "    </tr>\n",
       "    <tr>\n",
       "      <th>54994</th>\n",
       "      <td>팀들은 승점 순으로 정렬된다.(승리시 3점, 무승부시 1점, 패배시 0점), 승점 ...</td>\n",
       "      <td>위키피디아</td>\n",
       "      <td>None</td>\n",
       "      <td>None</td>\n",
       "      <td>2019-20년 UEFA 유로파리그 조별 리그</td>\n",
       "      <td>None</td>\n",
       "      <td>None</td>\n",
       "      <td>54994</td>\n",
       "      <td>354</td>\n",
       "    </tr>\n",
       "    <tr>\n",
       "      <th>42937</th>\n",
       "      <td>파일:Pierre Trudeau (1975).jpg|캐나다 캐나다&lt;br /&gt;피에르 ...</td>\n",
       "      <td>위키피디아</td>\n",
       "      <td>None</td>\n",
       "      <td>None</td>\n",
       "      <td>제4회 G7 정상회담</td>\n",
       "      <td>None</td>\n",
       "      <td>None</td>\n",
       "      <td>42937</td>\n",
       "      <td>480</td>\n",
       "    </tr>\n",
       "    <tr>\n",
       "      <th>5870</th>\n",
       "      <td>한단이 함락되고 공자 가가 대군으로 쫓겨들어온 후에 얼마 지나지 않아 진나라군은 역...</td>\n",
       "      <td>위키피디아</td>\n",
       "      <td>None</td>\n",
       "      <td>None</td>\n",
       "      <td>진나라</td>\n",
       "      <td>None</td>\n",
       "      <td>None</td>\n",
       "      <td>5870</td>\n",
       "      <td>1602</td>\n",
       "    </tr>\n",
       "    <tr>\n",
       "      <th>1316</th>\n",
       "      <td>한단이 함락되고 공자 가가 대군으로 쫓겨들어온 후에 얼마 지나지 않아 진나라군은 역...</td>\n",
       "      <td>위키피디아</td>\n",
       "      <td>TODO</td>\n",
       "      <td>None</td>\n",
       "      <td>진나라</td>\n",
       "      <td>None</td>\n",
       "      <td>None</td>\n",
       "      <td>1316</td>\n",
       "      <td>1602</td>\n",
       "    </tr>\n",
       "    <tr>\n",
       "      <th>56999</th>\n",
       "      <td>한산도함은 국내 군함 중 최대 규모의 의무실과 병상을 갖췄다. 독도함의 1.8배의 ...</td>\n",
       "      <td>위키피디아</td>\n",
       "      <td>None</td>\n",
       "      <td>None</td>\n",
       "      <td>ATH-81 한산도</td>\n",
       "      <td>None</td>\n",
       "      <td>None</td>\n",
       "      <td>56999</td>\n",
       "      <td>368</td>\n",
       "    </tr>\n",
       "  </tbody>\n",
       "</table>\n",
       "<p>96 rows × 9 columns</p>\n",
       "</div>"
      ],
      "text/plain": [
       "                                                    text corpus_source   url  \\\n",
       "49841  10대 닥터\\n \\n*TARDISODE 8\\n*\"The beast and his a...         위키피디아  None   \n",
       "60263  19세기 말부터 러시아의 진보적 귀족과 러시아 농촌 내 농민에게서 자생적으로 발생한...         위키피디아  None   \n",
       "56384  2000년부터 김정일은 독립채산제로 인한 자체 수익 사업을 권장하며 방위산업이든 일...         위키피디아  None   \n",
       "56109  2000년부터 김정일은 독립채산제로 인한 자체 수익 사업을 권장하며 방위산업이든 일...         위키피디아  None   \n",
       "49062  2018년 동계 올림픽 크로스컨트리 예선\\n올림픽 대회에 앞서 선수 선발전이 진행됐...         위키피디아  None   \n",
       "...                                                  ...           ...   ...   \n",
       "54994  팀들은 승점 순으로 정렬된다.(승리시 3점, 무승부시 1점, 패배시 0점), 승점 ...         위키피디아  None   \n",
       "42937  파일:Pierre Trudeau (1975).jpg|캐나다 캐나다<br />피에르 ...         위키피디아  None   \n",
       "5870   한단이 함락되고 공자 가가 대군으로 쫓겨들어온 후에 얼마 지나지 않아 진나라군은 역...         위키피디아  None   \n",
       "1316   한단이 함락되고 공자 가가 대군으로 쫓겨들어온 후에 얼마 지나지 않아 진나라군은 역...         위키피디아  TODO   \n",
       "56999  한산도함은 국내 군함 중 최대 규모의 의무실과 병상을 갖췄다. 독도함의 1.8배의 ...         위키피디아  None   \n",
       "\n",
       "      domain                           title author  html document_id  \\\n",
       "49841   None                   The Satan Pit   None  None       49841   \n",
       "60263   None                            노농동맹   None  None       60263   \n",
       "56384   None                       89호집적회로공장   None  None       56384   \n",
       "56109   None                      평양집적회로시험공장   None  None       56109   \n",
       "49062   None  2018년 동계 올림픽 크로스컨트리 여자 10km 프리   None  None       49062   \n",
       "...      ...                             ...    ...   ...         ...   \n",
       "54994   None       2019-20년 UEFA 유로파리그 조별 리그   None  None       54994   \n",
       "42937   None                     제4회 G7 정상회담   None  None       42937   \n",
       "5870    None                             진나라   None  None        5870   \n",
       "1316    None                             진나라   None  None        1316   \n",
       "56999   None                      ATH-81 한산도   None  None       56999   \n",
       "\n",
       "       text_length  \n",
       "49841          319  \n",
       "60263          765  \n",
       "56384          599  \n",
       "56109          599  \n",
       "49062          524  \n",
       "...            ...  \n",
       "54994          354  \n",
       "42937          480  \n",
       "5870          1602  \n",
       "1316          1602  \n",
       "56999          368  \n",
       "\n",
       "[96 rows x 9 columns]"
      ]
     },
     "execution_count": 288,
     "metadata": {},
     "output_type": "execute_result"
    }
   ],
   "source": [
    "df_wiki[df_wiki[['text','url']].duplicated(keep='first')].sort_values('text')"
   ]
  },
  {
   "cell_type": "markdown",
   "id": "c3725ff0-8e32-41d8-9c0a-1e923ce37eae",
   "metadata": {},
   "source": [
    "- 7677/2= 3838.5는 3876과다름 -> 3개이상인 친구가 있음 -> 중복은 url이 다르거나(None vs TODO), title이 다름 + document_id도\n",
    "- 문장의 길이가 같기에 더 파고들지 않음"
   ]
  },
  {
   "metadata": {},
   "cell_type": "markdown",
   "source": "## train과 validation의 context는 wikipedia의 subset인가?",
   "id": "29f15bf36d4a2447"
  },
  {
   "metadata": {
    "ExecuteTime": {
     "end_time": "2024-10-04T17:27:08.044328Z",
     "start_time": "2024-10-04T17:27:07.201966Z"
    }
   },
   "cell_type": "code",
   "source": [
    "# Arrow 파일 경로 설정\n",
    "train_file_path = os.path.join(parent_dir, 'data', 'train_dataset')\n",
    "dataset = load_from_disk(train_file_path)\n",
    "\n",
    "train_dataset = dataset[\"train\"]\n",
    "valid_dataset = dataset[\"validation\"]\n",
    "\n",
    "train_df=pd.DataFrame(train_dataset)\n",
    "valid_df=pd.DataFrame(valid_dataset)\n",
    "\n",
    "display(train_df.info())\n",
    "display(valid_df.info())\n",
    "display(df_wiki.info())"
   ],
   "id": "d41bb1268eb8f093",
   "outputs": [
    {
     "name": "stdout",
     "output_type": "stream",
     "text": [
      "<class 'pandas.core.frame.DataFrame'>\n",
      "RangeIndex: 3952 entries, 0 to 3951\n",
      "Data columns (total 7 columns):\n",
      " #   Column             Non-Null Count  Dtype \n",
      "---  ------             --------------  ----- \n",
      " 0   title              3952 non-null   object\n",
      " 1   context            3952 non-null   object\n",
      " 2   question           3952 non-null   object\n",
      " 3   id                 3952 non-null   object\n",
      " 4   answers            3952 non-null   object\n",
      " 5   document_id        3952 non-null   int64 \n",
      " 6   __index_level_0__  3952 non-null   int64 \n",
      "dtypes: int64(2), object(5)\n",
      "memory usage: 216.2+ KB\n"
     ]
    },
    {
     "data": {
      "text/plain": [
       "None"
      ]
     },
     "metadata": {},
     "output_type": "display_data"
    },
    {
     "name": "stdout",
     "output_type": "stream",
     "text": [
      "<class 'pandas.core.frame.DataFrame'>\n",
      "RangeIndex: 240 entries, 0 to 239\n",
      "Data columns (total 7 columns):\n",
      " #   Column             Non-Null Count  Dtype \n",
      "---  ------             --------------  ----- \n",
      " 0   title              240 non-null    object\n",
      " 1   context            240 non-null    object\n",
      " 2   question           240 non-null    object\n",
      " 3   id                 240 non-null    object\n",
      " 4   answers            240 non-null    object\n",
      " 5   document_id        240 non-null    int64 \n",
      " 6   __index_level_0__  240 non-null    int64 \n",
      "dtypes: int64(2), object(5)\n",
      "memory usage: 13.2+ KB\n"
     ]
    },
    {
     "data": {
      "text/plain": [
       "None"
      ]
     },
     "metadata": {},
     "output_type": "display_data"
    },
    {
     "name": "stdout",
     "output_type": "stream",
     "text": [
      "<class 'pandas.core.frame.DataFrame'>\n",
      "Index: 60613 entries, 0 to 60612\n",
      "Data columns (total 10 columns):\n",
      " #   Column         Non-Null Count  Dtype \n",
      "---  ------         --------------  ----- \n",
      " 0   text           60613 non-null  object\n",
      " 1   corpus_source  60613 non-null  object\n",
      " 2   url            4554 non-null   object\n",
      " 3   domain         0 non-null      object\n",
      " 4   title          60613 non-null  object\n",
      " 5   author         0 non-null      object\n",
      " 6   html           0 non-null      object\n",
      " 7   document_id    60613 non-null  object\n",
      " 8   text_length    60613 non-null  int64 \n",
      " 9   text_len       60613 non-null  int64 \n",
      "dtypes: int64(2), object(8)\n",
      "memory usage: 7.1+ MB\n"
     ]
    },
    {
     "data": {
      "text/plain": [
       "None"
      ]
     },
     "metadata": {},
     "output_type": "display_data"
    }
   ],
   "execution_count": 168
  },
  {
   "metadata": {},
   "cell_type": "markdown",
   "source": "### LEFT JOIN을 이용한 Subset인지 확인",
   "id": "f9ecdc7ca46eae7f"
  },
  {
   "metadata": {
    "ExecuteTime": {
     "end_time": "2024-10-04T17:41:04.879710Z",
     "start_time": "2024-10-04T17:41:04.799962Z"
    }
   },
   "cell_type": "code",
   "source": [
    "import pandas as pd\n",
    "\n",
    "# train_df와 df_wiki의 title, context(text), document_id 쌍을 비교\n",
    "train_merged = pd.merge(train_df[['title', 'context', 'document_id']], \n",
    "                        df_wiki[['title', 'text', 'document_id']], \n",
    "                        how='left', \n",
    "                        left_on=['title', 'context', 'document_id'], \n",
    "                        right_on=['title', 'text', 'document_id'])\n",
    "\n",
    "# train_df에서 일치하는 데이터가 있는지 확인\n",
    "train_matches = train_merged[train_merged['text'].notnull()]\n",
    "print(f\"Train Data: {len(train_matches)} matches found\")\n",
    "\n",
    "# 매칭되지 않은 데이터\n",
    "train_unmatched = train_merged[train_merged['text'].isnull()]\n",
    "print(f\"Train Data: {len(train_unmatched)} unmatched rows\")\n",
    "\n",
    "# valid_df와 df_wiki의 title, context(text), document_id 쌍을 비교\n",
    "valid_merged = pd.merge(valid_df[['title', 'context', 'document_id']], \n",
    "                        df_wiki[['title', 'text', 'document_id']], \n",
    "                        how='left', \n",
    "                        left_on=['title', 'context', 'document_id'], \n",
    "                        right_on=['title', 'text', 'document_id'])\n",
    "\n",
    "# valid_df에서 일치하는 데이터가 있는지 확인\n",
    "valid_matches = valid_merged[valid_merged['text'].notnull()]\n",
    "print(f\"Valid Data: {len(valid_matches)} matches found\")\n",
    "\n",
    "# 매칭되지 않은 데이터\n",
    "valid_unmatched = valid_merged[valid_merged['text'].isnull()]\n",
    "print(f\"Valid Data: {len(valid_unmatched)} unmatched rows\")\n"
   ],
   "id": "a36709c403d07a6b",
   "outputs": [
    {
     "name": "stdout",
     "output_type": "stream",
     "text": [
      "Train Data: 3922 matches found\n",
      "Train Data: 30 unmatched rows\n",
      "Valid Data: 238 matches found\n",
      "Valid Data: 2 unmatched rows\n"
     ]
    }
   ],
   "execution_count": 177
  },
  {
   "metadata": {
    "ExecuteTime": {
     "end_time": "2024-10-04T17:41:07.070236Z",
     "start_time": "2024-10-04T17:41:07.055531Z"
    }
   },
   "cell_type": "code",
   "source": [
    "display(train_unmatched)\n",
    "display(valid_unmatched)"
   ],
   "id": "407881b478bfe368",
   "outputs": [
    {
     "data": {
      "text/plain": [
       "           title                                            context  \\\n",
       "291         고레인저  수수께끼의 UFO들과 유럽에서 가면 라이더 V3과 싸우던 철면 군단, 사하라 사막에...   \n",
       "389            힐  힐은 전쟁중에 논쟁을 피하지 못했다. 병약한 체질이라서 여러 번 병치레를 했기에, ...   \n",
       "477          와그너  1929년 후순 대공황의 습격과 함께 와그너는 평범한 시민과 근로자에게 경제적 구호...   \n",
       "536          케네디  케네디는 1962년 11월 7일 테드 케네디는 연방 상원으로 선서되었다. 그는 그가...   \n",
       "578         레닌주의  19세기 말부터 러시아의 진보적 귀족과 러시아 농촌 내 농민에게서 자생적으로 발생한...   \n",
       "654         레닌주의  19세기 말부터 러시아의 진보적 귀족과 러시아 농촌 내 농민에게서 자생적으로 발생한...   \n",
       "715      조선련봉총회사  조선민주주의인민공화국은 1997년 개정 헌법에 근거한 1999년의 1차 개정을 거쳐...   \n",
       "806       하워드 마셜  그는 구두로는 안나 니콜 스미스에게 자신의 재산의 반을 주겠다고 약속했다 하나 유언...   \n",
       "902          톰킨스  톰킨스는 자신이 뉴욕주 헌법 회의로 대표로 만들어졌을 때 자신의 정치 경력을 시작하...   \n",
       "962         헨드릭스  항상 야망적이었던 헨드릭스는 정치에 뛰어들었다. 그는 1848년 인디애나주 연방 하...   \n",
       "1025         댈러스  1839년 귀국 후 댈러스는 제임스 뷰캐넌이 거부한 후 법무장관 직이 제공되었으나 ...   \n",
       "1449           힐  힐은 전쟁중에 논쟁을 피하지 못했다. 병약한 체질이라서 여러 번 병치레를 했기에, ...   \n",
       "1465       카쿠레인저  《초력전대 오레인저》과 《닌자전대 카쿠레인저》의 크로스 오버 작품. 슈퍼 전대 시리...   \n",
       "1538         제발트  제발트의 문학 작업은 실질적으로 1980년대 말부터 시작되었다. 독일 사람들은 19...   \n",
       "1651  평양집적회로시험공장  김정일과 김정은은 현재 반도체 장비를 자신의 예금에 맞게끔 들여오고 있으며 특히 리...   \n",
       "1712          이월  게티스버그 전역이 시작된 날 제2차 윈체스터 전투에서 이월은 북군 수비대 4,000...   \n",
       "1815          듀이  1938년 듀이는 인기있는 민주당 현직 주지사 허버트 리먼을 상대로 뉴욕 주지사를 ...   \n",
       "2097         시모어  루이지애나주 센터빌에서 태어났다. 그의 부모는 둘다 최근에 해방된 노예들로 사이먼 ...   \n",
       "2186         케네디  상원에서 자유주의적 사자로서 케네디의 역할은 뉴트 깅리치의 하원으로부터 미국이 오고...   \n",
       "2479          듀이  1938년 듀이는 인기있는 민주당 현직 주지사 허버트 리먼을 상대로 뉴욕 주지사를 ...   \n",
       "2570     조선련봉총회사  고난의 행군 이후 국가 과학원은 예산 체계로 운영이 되었음을 알수가 있었으나 200...   \n",
       "2606       브레킨리지  북부에서 배신자로 간주된 브레킨리지는 버지니아주로 여행을 떠나 아메리카 연합국으로 ...   \n",
       "2907        레닌주의  19세기 말부터 러시아의 진보적 귀족과 러시아 농촌 내 농민에게서 자생적으로 발생한...   \n",
       "3031         와그너  국내 산업 회복 법령이 비헌법적이란 것을 미국 대법원이 판결을 내린지 단 5주 후에...   \n",
       "3094          듀이  1930년대 동안 듀이는 뉴욕의 검찰관이었다. 1930년대 초반 자신이 뉴욕의 남부...   \n",
       "3202        헨드릭스  선거의 실망 후에 헨드릭스와 그의 부인은 유럽을 통하여 장기적 여행과 함께 자신들을...   \n",
       "3213         블레인  1861년과 1862년 동안 블레인은 메인주 연방 하원의 의장을 지냈다. 그러고나서...   \n",
       "3295         블레인  1876년 블레인은 대통령이 되는 데 희망하였고, 미국의 전당 대회 역사상 가장 유...   \n",
       "3583    고구려-당 전쟁  당 태종 이세민은 유격전에 능한 좌무위 대장군 우진달을 청구도행군대총관으로 삼고, ...   \n",
       "3593       가오레인저  《인풍전대 허리케인저》와 《백수전대 가오레인저》의 크로스 오버 작품인 슈퍼 전대 V...   \n",
       "\n",
       "     document_id text  \n",
       "291        45631  NaN  \n",
       "389         9473  NaN  \n",
       "477        59363  NaN  \n",
       "536        15376  NaN  \n",
       "578        60263  NaN  \n",
       "654        60263  NaN  \n",
       "715        58794  NaN  \n",
       "806        36640  NaN  \n",
       "902        29366  NaN  \n",
       "962        20114  NaN  \n",
       "1025       27402  NaN  \n",
       "1449        9473  NaN  \n",
       "1465       44494  NaN  \n",
       "1538       52162  NaN  \n",
       "1651       56383  NaN  \n",
       "1712        9478  NaN  \n",
       "1815       22802  NaN  \n",
       "2097       43091  NaN  \n",
       "2186       15381  NaN  \n",
       "2479       22802  NaN  \n",
       "2570       58792  NaN  \n",
       "2606       27297  NaN  \n",
       "2907       60263  NaN  \n",
       "3031       59364  NaN  \n",
       "3094       22801  NaN  \n",
       "3202       20117  NaN  \n",
       "3213       40738  NaN  \n",
       "3295       40739  NaN  \n",
       "3583       41161  NaN  \n",
       "3593       45630  NaN  "
      ],
      "text/html": [
       "<div>\n",
       "<style scoped>\n",
       "    .dataframe tbody tr th:only-of-type {\n",
       "        vertical-align: middle;\n",
       "    }\n",
       "\n",
       "    .dataframe tbody tr th {\n",
       "        vertical-align: top;\n",
       "    }\n",
       "\n",
       "    .dataframe thead th {\n",
       "        text-align: right;\n",
       "    }\n",
       "</style>\n",
       "<table border=\"1\" class=\"dataframe\">\n",
       "  <thead>\n",
       "    <tr style=\"text-align: right;\">\n",
       "      <th></th>\n",
       "      <th>title</th>\n",
       "      <th>context</th>\n",
       "      <th>document_id</th>\n",
       "      <th>text</th>\n",
       "    </tr>\n",
       "  </thead>\n",
       "  <tbody>\n",
       "    <tr>\n",
       "      <th>291</th>\n",
       "      <td>고레인저</td>\n",
       "      <td>수수께끼의 UFO들과 유럽에서 가면 라이더 V3과 싸우던 철면 군단, 사하라 사막에...</td>\n",
       "      <td>45631</td>\n",
       "      <td>NaN</td>\n",
       "    </tr>\n",
       "    <tr>\n",
       "      <th>389</th>\n",
       "      <td>힐</td>\n",
       "      <td>힐은 전쟁중에 논쟁을 피하지 못했다. 병약한 체질이라서 여러 번 병치레를 했기에, ...</td>\n",
       "      <td>9473</td>\n",
       "      <td>NaN</td>\n",
       "    </tr>\n",
       "    <tr>\n",
       "      <th>477</th>\n",
       "      <td>와그너</td>\n",
       "      <td>1929년 후순 대공황의 습격과 함께 와그너는 평범한 시민과 근로자에게 경제적 구호...</td>\n",
       "      <td>59363</td>\n",
       "      <td>NaN</td>\n",
       "    </tr>\n",
       "    <tr>\n",
       "      <th>536</th>\n",
       "      <td>케네디</td>\n",
       "      <td>케네디는 1962년 11월 7일 테드 케네디는 연방 상원으로 선서되었다. 그는 그가...</td>\n",
       "      <td>15376</td>\n",
       "      <td>NaN</td>\n",
       "    </tr>\n",
       "    <tr>\n",
       "      <th>578</th>\n",
       "      <td>레닌주의</td>\n",
       "      <td>19세기 말부터 러시아의 진보적 귀족과 러시아 농촌 내 농민에게서 자생적으로 발생한...</td>\n",
       "      <td>60263</td>\n",
       "      <td>NaN</td>\n",
       "    </tr>\n",
       "    <tr>\n",
       "      <th>654</th>\n",
       "      <td>레닌주의</td>\n",
       "      <td>19세기 말부터 러시아의 진보적 귀족과 러시아 농촌 내 농민에게서 자생적으로 발생한...</td>\n",
       "      <td>60263</td>\n",
       "      <td>NaN</td>\n",
       "    </tr>\n",
       "    <tr>\n",
       "      <th>715</th>\n",
       "      <td>조선련봉총회사</td>\n",
       "      <td>조선민주주의인민공화국은 1997년 개정 헌법에 근거한 1999년의 1차 개정을 거쳐...</td>\n",
       "      <td>58794</td>\n",
       "      <td>NaN</td>\n",
       "    </tr>\n",
       "    <tr>\n",
       "      <th>806</th>\n",
       "      <td>하워드 마셜</td>\n",
       "      <td>그는 구두로는 안나 니콜 스미스에게 자신의 재산의 반을 주겠다고 약속했다 하나 유언...</td>\n",
       "      <td>36640</td>\n",
       "      <td>NaN</td>\n",
       "    </tr>\n",
       "    <tr>\n",
       "      <th>902</th>\n",
       "      <td>톰킨스</td>\n",
       "      <td>톰킨스는 자신이 뉴욕주 헌법 회의로 대표로 만들어졌을 때 자신의 정치 경력을 시작하...</td>\n",
       "      <td>29366</td>\n",
       "      <td>NaN</td>\n",
       "    </tr>\n",
       "    <tr>\n",
       "      <th>962</th>\n",
       "      <td>헨드릭스</td>\n",
       "      <td>항상 야망적이었던 헨드릭스는 정치에 뛰어들었다. 그는 1848년 인디애나주 연방 하...</td>\n",
       "      <td>20114</td>\n",
       "      <td>NaN</td>\n",
       "    </tr>\n",
       "    <tr>\n",
       "      <th>1025</th>\n",
       "      <td>댈러스</td>\n",
       "      <td>1839년 귀국 후 댈러스는 제임스 뷰캐넌이 거부한 후 법무장관 직이 제공되었으나 ...</td>\n",
       "      <td>27402</td>\n",
       "      <td>NaN</td>\n",
       "    </tr>\n",
       "    <tr>\n",
       "      <th>1449</th>\n",
       "      <td>힐</td>\n",
       "      <td>힐은 전쟁중에 논쟁을 피하지 못했다. 병약한 체질이라서 여러 번 병치레를 했기에, ...</td>\n",
       "      <td>9473</td>\n",
       "      <td>NaN</td>\n",
       "    </tr>\n",
       "    <tr>\n",
       "      <th>1465</th>\n",
       "      <td>카쿠레인저</td>\n",
       "      <td>《초력전대 오레인저》과 《닌자전대 카쿠레인저》의 크로스 오버 작품. 슈퍼 전대 시리...</td>\n",
       "      <td>44494</td>\n",
       "      <td>NaN</td>\n",
       "    </tr>\n",
       "    <tr>\n",
       "      <th>1538</th>\n",
       "      <td>제발트</td>\n",
       "      <td>제발트의 문학 작업은 실질적으로 1980년대 말부터 시작되었다. 독일 사람들은 19...</td>\n",
       "      <td>52162</td>\n",
       "      <td>NaN</td>\n",
       "    </tr>\n",
       "    <tr>\n",
       "      <th>1651</th>\n",
       "      <td>평양집적회로시험공장</td>\n",
       "      <td>김정일과 김정은은 현재 반도체 장비를 자신의 예금에 맞게끔 들여오고 있으며 특히 리...</td>\n",
       "      <td>56383</td>\n",
       "      <td>NaN</td>\n",
       "    </tr>\n",
       "    <tr>\n",
       "      <th>1712</th>\n",
       "      <td>이월</td>\n",
       "      <td>게티스버그 전역이 시작된 날 제2차 윈체스터 전투에서 이월은 북군 수비대 4,000...</td>\n",
       "      <td>9478</td>\n",
       "      <td>NaN</td>\n",
       "    </tr>\n",
       "    <tr>\n",
       "      <th>1815</th>\n",
       "      <td>듀이</td>\n",
       "      <td>1938년 듀이는 인기있는 민주당 현직 주지사 허버트 리먼을 상대로 뉴욕 주지사를 ...</td>\n",
       "      <td>22802</td>\n",
       "      <td>NaN</td>\n",
       "    </tr>\n",
       "    <tr>\n",
       "      <th>2097</th>\n",
       "      <td>시모어</td>\n",
       "      <td>루이지애나주 센터빌에서 태어났다. 그의 부모는 둘다 최근에 해방된 노예들로 사이먼 ...</td>\n",
       "      <td>43091</td>\n",
       "      <td>NaN</td>\n",
       "    </tr>\n",
       "    <tr>\n",
       "      <th>2186</th>\n",
       "      <td>케네디</td>\n",
       "      <td>상원에서 자유주의적 사자로서 케네디의 역할은 뉴트 깅리치의 하원으로부터 미국이 오고...</td>\n",
       "      <td>15381</td>\n",
       "      <td>NaN</td>\n",
       "    </tr>\n",
       "    <tr>\n",
       "      <th>2479</th>\n",
       "      <td>듀이</td>\n",
       "      <td>1938년 듀이는 인기있는 민주당 현직 주지사 허버트 리먼을 상대로 뉴욕 주지사를 ...</td>\n",
       "      <td>22802</td>\n",
       "      <td>NaN</td>\n",
       "    </tr>\n",
       "    <tr>\n",
       "      <th>2570</th>\n",
       "      <td>조선련봉총회사</td>\n",
       "      <td>고난의 행군 이후 국가 과학원은 예산 체계로 운영이 되었음을 알수가 있었으나 200...</td>\n",
       "      <td>58792</td>\n",
       "      <td>NaN</td>\n",
       "    </tr>\n",
       "    <tr>\n",
       "      <th>2606</th>\n",
       "      <td>브레킨리지</td>\n",
       "      <td>북부에서 배신자로 간주된 브레킨리지는 버지니아주로 여행을 떠나 아메리카 연합국으로 ...</td>\n",
       "      <td>27297</td>\n",
       "      <td>NaN</td>\n",
       "    </tr>\n",
       "    <tr>\n",
       "      <th>2907</th>\n",
       "      <td>레닌주의</td>\n",
       "      <td>19세기 말부터 러시아의 진보적 귀족과 러시아 농촌 내 농민에게서 자생적으로 발생한...</td>\n",
       "      <td>60263</td>\n",
       "      <td>NaN</td>\n",
       "    </tr>\n",
       "    <tr>\n",
       "      <th>3031</th>\n",
       "      <td>와그너</td>\n",
       "      <td>국내 산업 회복 법령이 비헌법적이란 것을 미국 대법원이 판결을 내린지 단 5주 후에...</td>\n",
       "      <td>59364</td>\n",
       "      <td>NaN</td>\n",
       "    </tr>\n",
       "    <tr>\n",
       "      <th>3094</th>\n",
       "      <td>듀이</td>\n",
       "      <td>1930년대 동안 듀이는 뉴욕의 검찰관이었다. 1930년대 초반 자신이 뉴욕의 남부...</td>\n",
       "      <td>22801</td>\n",
       "      <td>NaN</td>\n",
       "    </tr>\n",
       "    <tr>\n",
       "      <th>3202</th>\n",
       "      <td>헨드릭스</td>\n",
       "      <td>선거의 실망 후에 헨드릭스와 그의 부인은 유럽을 통하여 장기적 여행과 함께 자신들을...</td>\n",
       "      <td>20117</td>\n",
       "      <td>NaN</td>\n",
       "    </tr>\n",
       "    <tr>\n",
       "      <th>3213</th>\n",
       "      <td>블레인</td>\n",
       "      <td>1861년과 1862년 동안 블레인은 메인주 연방 하원의 의장을 지냈다. 그러고나서...</td>\n",
       "      <td>40738</td>\n",
       "      <td>NaN</td>\n",
       "    </tr>\n",
       "    <tr>\n",
       "      <th>3295</th>\n",
       "      <td>블레인</td>\n",
       "      <td>1876년 블레인은 대통령이 되는 데 희망하였고, 미국의 전당 대회 역사상 가장 유...</td>\n",
       "      <td>40739</td>\n",
       "      <td>NaN</td>\n",
       "    </tr>\n",
       "    <tr>\n",
       "      <th>3583</th>\n",
       "      <td>고구려-당 전쟁</td>\n",
       "      <td>당 태종 이세민은 유격전에 능한 좌무위 대장군 우진달을 청구도행군대총관으로 삼고, ...</td>\n",
       "      <td>41161</td>\n",
       "      <td>NaN</td>\n",
       "    </tr>\n",
       "    <tr>\n",
       "      <th>3593</th>\n",
       "      <td>가오레인저</td>\n",
       "      <td>《인풍전대 허리케인저》와 《백수전대 가오레인저》의 크로스 오버 작품인 슈퍼 전대 V...</td>\n",
       "      <td>45630</td>\n",
       "      <td>NaN</td>\n",
       "    </tr>\n",
       "  </tbody>\n",
       "</table>\n",
       "</div>"
      ]
     },
     "metadata": {},
     "output_type": "display_data"
    },
    {
     "data": {
      "text/plain": [
       "    title                                            context document_id text\n",
       "87    와그너  제2차 세계 대전 후에 와그너는 노동, 사회 보장, 완전 고용 (취업 기회들이 풍부...       59365  NaN\n",
       "105   댈러스  1839년 귀국 후 댈러스는 제임스 뷰캐넌이 거부한 후 법무장관 직이 제공되었으나 ...       27402  NaN"
      ],
      "text/html": [
       "<div>\n",
       "<style scoped>\n",
       "    .dataframe tbody tr th:only-of-type {\n",
       "        vertical-align: middle;\n",
       "    }\n",
       "\n",
       "    .dataframe tbody tr th {\n",
       "        vertical-align: top;\n",
       "    }\n",
       "\n",
       "    .dataframe thead th {\n",
       "        text-align: right;\n",
       "    }\n",
       "</style>\n",
       "<table border=\"1\" class=\"dataframe\">\n",
       "  <thead>\n",
       "    <tr style=\"text-align: right;\">\n",
       "      <th></th>\n",
       "      <th>title</th>\n",
       "      <th>context</th>\n",
       "      <th>document_id</th>\n",
       "      <th>text</th>\n",
       "    </tr>\n",
       "  </thead>\n",
       "  <tbody>\n",
       "    <tr>\n",
       "      <th>87</th>\n",
       "      <td>와그너</td>\n",
       "      <td>제2차 세계 대전 후에 와그너는 노동, 사회 보장, 완전 고용 (취업 기회들이 풍부...</td>\n",
       "      <td>59365</td>\n",
       "      <td>NaN</td>\n",
       "    </tr>\n",
       "    <tr>\n",
       "      <th>105</th>\n",
       "      <td>댈러스</td>\n",
       "      <td>1839년 귀국 후 댈러스는 제임스 뷰캐넌이 거부한 후 법무장관 직이 제공되었으나 ...</td>\n",
       "      <td>27402</td>\n",
       "      <td>NaN</td>\n",
       "    </tr>\n",
       "  </tbody>\n",
       "</table>\n",
       "</div>"
      ]
     },
     "metadata": {},
     "output_type": "display_data"
    }
   ],
   "execution_count": 178
  },
  {
   "metadata": {},
   "cell_type": "markdown",
   "source": "title-text-id까지 맞는지 비교해보면, 위와같이 안맞는 set이 있다.",
   "id": "dae33e672bd5b135"
  },
  {
   "metadata": {},
   "cell_type": "markdown",
   "source": "### title을 빼고 확인해보자",
   "id": "4ee16c9be360786"
  },
  {
   "metadata": {
    "ExecuteTime": {
     "end_time": "2024-10-04T17:44:45.376533Z",
     "start_time": "2024-10-04T17:44:45.301950Z"
    }
   },
   "cell_type": "code",
   "source": [
    "import pandas as pd\n",
    "\n",
    "# train_df와 df_wiki의 title, context(text), document_id 쌍을 비교\n",
    "train_merged = pd.merge(train_df[['context', 'document_id']], \n",
    "                        df_wiki[['text', 'document_id']], \n",
    "                        how='left', \n",
    "                        left_on=['context', 'document_id'], \n",
    "                        right_on=['text', 'document_id'])\n",
    "\n",
    "# train_df에서 일치하는 데이터가 있는지 확인\n",
    "train_matches = train_merged[train_merged['text'].notnull()]\n",
    "print(f\"Train Data: {len(train_matches)} matches found\")\n",
    "\n",
    "# 매칭되지 않은 데이터\n",
    "train_unmatched = train_merged[train_merged['text'].isnull()]\n",
    "print(f\"Train Data: {len(train_unmatched)} unmatched rows\")\n",
    "\n",
    "# valid_df와 df_wiki의 title, context(text), document_id 쌍을 비교\n",
    "valid_merged = pd.merge(valid_df[['context', 'document_id']], \n",
    "                        df_wiki[['text', 'document_id']], \n",
    "                        how='left', \n",
    "                        left_on=['context', 'document_id'], \n",
    "                        right_on=['text', 'document_id'])\n",
    "\n",
    "# valid_df에서 일치하는 데이터가 있는지 확인\n",
    "valid_matches = valid_merged[valid_merged['text'].notnull()]\n",
    "print(f\"Valid Data: {len(valid_matches)} matches found\")\n",
    "\n",
    "# 매칭되지 않은 데이터\n",
    "valid_unmatched = valid_merged[valid_merged['text'].isnull()]\n",
    "print(f\"Valid Data: {len(valid_unmatched)} unmatched rows\")\n"
   ],
   "id": "5ca3402a7fe6fa07",
   "outputs": [
    {
     "name": "stdout",
     "output_type": "stream",
     "text": [
      "Train Data: 3952 matches found\n",
      "Train Data: 0 unmatched rows\n",
      "Valid Data: 240 matches found\n",
      "Valid Data: 0 unmatched rows\n"
     ]
    }
   ],
   "execution_count": 179
  },
  {
   "metadata": {},
   "cell_type": "markdown",
   "source": "### title이 다른 경우가 간헐적으로 존재함. 결론적으로 text자체는 wiki set의 subset이 맞음.",
   "id": "9487154e17d2fd45"
  },
  {
   "metadata": {},
   "cell_type": "markdown",
   "source": "#### wiki에 Text와 text len만 남기면 중복이 다 사라지겠지->얼마나 남을까\n",
   "id": "9ba3cd97c5cf130a"
  },
  {
   "metadata": {
    "ExecuteTime": {
     "end_time": "2024-10-04T17:52:49.693560Z",
     "start_time": "2024-10-04T17:52:49.485670Z"
    }
   },
   "cell_type": "code",
   "source": [
    "# 'text_len'과 'text' 열만으로 새로운 데이터프레임 생성\n",
    "df_wiki_filtered = df_wiki[['text', 'text_len']].drop_duplicates()\n",
    "\n",
    "# 생성된 데이터프레임 확인\n",
    "display(df_wiki_filtered.info())\n"
   ],
   "id": "2b96a4f6383293a9",
   "outputs": [
    {
     "name": "stdout",
     "output_type": "stream",
     "text": [
      "<class 'pandas.core.frame.DataFrame'>\n",
      "Index: 56737 entries, 0 to 60612\n",
      "Data columns (total 2 columns):\n",
      " #   Column    Non-Null Count  Dtype \n",
      "---  ------    --------------  ----- \n",
      " 0   text      56737 non-null  object\n",
      " 1   text_len  56737 non-null  int64 \n",
      "dtypes: int64(1), object(1)\n",
      "memory usage: 1.3+ MB\n"
     ]
    },
    {
     "data": {
      "text/plain": [
       "None"
      ]
     },
     "metadata": {},
     "output_type": "display_data"
    }
   ],
   "execution_count": 183
  },
  {
   "metadata": {},
   "cell_type": "markdown",
   "source": "#### 중복만 제거했으니 당연히 train/validation set이 새롭게 중복제거한 df_wiki_filtered에 소속되어있겠지만 혹시나 확인",
   "id": "32b06f557c2a6862"
  },
  {
   "metadata": {
    "ExecuteTime": {
     "end_time": "2024-10-04T17:54:43.157008Z",
     "start_time": "2024-10-04T17:54:43.121348Z"
    }
   },
   "cell_type": "code",
   "source": [
    "# train_df와 df_wiki의 title, context(text), document_id 쌍을 비교\n",
    "train_merged = pd.merge(train_df[['context']], \n",
    "                        df_wiki_filtered[['text']], \n",
    "                        how='left', \n",
    "                        left_on=['context'], \n",
    "                        right_on=['text'])\n",
    "\n",
    "# train_df에서 일치하는 데이터가 있는지 확인\n",
    "train_matches = train_merged[train_merged['text'].notnull()]\n",
    "print(f\"Train Data: {len(train_matches)} matches found\")\n",
    "\n",
    "# 매칭되지 않은 데이터\n",
    "train_unmatched = train_merged[train_merged['text'].isnull()]\n",
    "print(f\"Train Data: {len(train_unmatched)} unmatched rows\")\n",
    "\n",
    "# valid_df와 df_wiki의 title, context(text), document_id 쌍을 비교\n",
    "valid_merged = pd.merge(valid_df[['context']], \n",
    "                        df_wiki_filtered[['text']], \n",
    "                        how='left', \n",
    "                        left_on=['context'], \n",
    "                        right_on=['text'])\n",
    "\n",
    "# valid_df에서 일치하는 데이터가 있는지 확인\n",
    "valid_matches = valid_merged[valid_merged['text'].notnull()]\n",
    "print(f\"Valid Data: {len(valid_matches)} matches found\")\n",
    "\n",
    "# 매칭되지 않은 데이터\n",
    "valid_unmatched = valid_merged[valid_merged['text'].isnull()]\n",
    "print(f\"Valid Data: {len(valid_unmatched)} unmatched rows\")\n"
   ],
   "id": "3d5c9bb862e79085",
   "outputs": [
    {
     "name": "stdout",
     "output_type": "stream",
     "text": [
      "Train Data: 3952 matches found\n",
      "Train Data: 0 unmatched rows\n",
      "Valid Data: 240 matches found\n",
      "Valid Data: 0 unmatched rows\n"
     ]
    }
   ],
   "execution_count": 187
  },
  {
   "cell_type": "markdown",
   "id": "79af75c2-8465-4e1b-a01e-6e2c5d068ae1",
   "metadata": {},
   "source": [
    "---"
   ]
  },
  {
   "cell_type": "markdown",
   "id": "a49d92a3-1097-4c11-8056-ce95f4a9a6f7",
   "metadata": {},
   "source": [
    "# ETC\n",
    "## 1 : __index_level_0__ <-????????????????"
   ]
  },
  {
   "cell_type": "code",
   "execution_count": 228,
   "id": "8110da08-9ecd-4eee-9db5-900c9229e33e",
   "metadata": {},
   "outputs": [
    {
     "data": {
      "text/plain": [
       "0         42\n",
       "1       2873\n",
       "2        230\n",
       "3        992\n",
       "4        548\n",
       "        ... \n",
       "3947    3445\n",
       "3948     450\n",
       "3949    2252\n",
       "3950    2595\n",
       "3951    2354\n",
       "Name: __index_level_0__, Length: 3952, dtype: int64"
      ]
     },
     "execution_count": 228,
     "metadata": {},
     "output_type": "execute_result"
    }
   ],
   "source": [
    "train_df['__index_level_0__']"
   ]
  },
  {
   "cell_type": "code",
   "execution_count": 229,
   "id": "46942aa3-4f58-49fd-ba2d-f3765392afd9",
   "metadata": {},
   "outputs": [
    {
     "data": {
      "text/plain": [
       "count    3952.000000\n",
       "mean     1496.027328\n",
       "std      1060.480948\n",
       "min         0.000000\n",
       "25%       587.000000\n",
       "50%      1189.500000\n",
       "75%      2416.250000\n",
       "max      3593.000000\n",
       "Name: __index_level_0__, dtype: float64"
      ]
     },
     "execution_count": 229,
     "metadata": {},
     "output_type": "execute_result"
    }
   ],
   "source": [
    "train_df['__index_level_0__'].describe()"
   ]
  },
  {
   "cell_type": "code",
   "execution_count": 231,
   "id": "1e4ed399-57ff-4ec9-b5a8-aa23e6815bad",
   "metadata": {},
   "outputs": [
    {
     "data": {
      "text/plain": [
       "3120"
      ]
     },
     "execution_count": 231,
     "metadata": {},
     "output_type": "execute_result"
    }
   ],
   "source": [
    "train_df['__index_level_0__'].nunique()"
   ]
  },
  {
   "metadata": {},
   "cell_type": "markdown",
   "source": "큰 의미없음",
   "id": "6c6e4c9d9c379631"
  }
 ],
 "metadata": {
  "kernelspec": {
   "display_name": "mrc",
   "language": "python",
   "name": "mrc"
  },
  "language_info": {
   "codemirror_mode": {
    "name": "ipython",
    "version": 3
   },
   "file_extension": ".py",
   "mimetype": "text/x-python",
   "name": "python",
   "nbconvert_exporter": "python",
   "pygments_lexer": "ipython3",
   "version": "3.8.5"
  }
 },
 "nbformat": 4,
 "nbformat_minor": 5
}
